{
 "cells": [
  {
   "cell_type": "code",
   "execution_count": 1,
   "metadata": {},
   "outputs": [],
   "source": [
    "import networkx as nx\n",
    "opts = { \"with_labels\": True, \"node_color\": 'b' } #options for networkx graph"
   ]
  },
  {
   "cell_type": "code",
   "execution_count": 85,
   "metadata": {},
   "outputs": [],
   "source": [
    "class rotationSystem:\n",
    "    \n",
    "    def __init__(self, vertex, edge):\n",
    "        \"\"\"Takes in two lists of tuples of half edges\"\"\"\n",
    "        self.vertex = vertex\n",
    "        self.edge = edge\n",
    "    \n",
    "    def conversion(self):\n",
    "        \"\"\"Converts a list of half edges and a list of half edge pairs into a list of vertices and edges to \n",
    "            be used with networkx\"\"\"\n",
    "        vertices = []\n",
    "        edges = []\n",
    "        vertexHalfEdge = {}\n",
    "        \n",
    "        for i in range(len(self.vertex)): #creates a list of the vertices\n",
    "            vertexHalfEdge[i]=self.vertex[i]\n",
    "            vertices.append(i)\n",
    "            \n",
    "        for e in self.edge:\n",
    "            x,y = e \n",
    "            for key,value in vertexHalfEdge.items(): \n",
    "                try:\n",
    "                    if x in value:\n",
    "                        vertex1= key\n",
    "                    if y in value:\n",
    "                        vertex2 = key\n",
    "                except:\n",
    "                    if x == value:\n",
    "                        vertex1 = key\n",
    "                    if y == value:\n",
    "                        vertex2 = key\n",
    "            edges.append(str(vertex1)+str(vertex2))\n",
    "        \n",
    "        return vertices, edges\n",
    "    \n",
    "    def nxVertices(self):\n",
    "        return self.conversion()[0]\n",
    "    \n",
    "    def nxEdges(self):\n",
    "        return self.conversion()[1]\n",
    "    \n",
    "    def components(self):\n",
    "        \"\"\"Returns the number of componets\"\"\"\n",
    "        G = nx.Graph(self.nxEdges())\n",
    "        return nx.number_connected_components(G)\n",
    "    \n",
    "    def longestCycle(self):\n",
    "        G = nx.Graph(self.nxEdges())\n",
    "        cycle = nx.cycle_basis(G)\n",
    "        longest = 0\n",
    "        for cy in cycle:\n",
    "            if (len(cy)>longest):\n",
    "                longest = len(cy)\n",
    "        return longest\n",
    "    \n",
    "    def noCycles(self):\n",
    "        \"\"\"returns number of cycles\"\"\"\n",
    "        G = nx.Graph(self.nxEdges())\n",
    "        cycle = nx.cycle_basis(G) #list of cycles\n",
    "        cycleList = []\n",
    "        \n",
    "        for i in range(self.longestCycle()+1): \n",
    "            count = 0\n",
    "            \n",
    "            for cy in cycle:\n",
    "                if(len(cy) == i):\n",
    "                    count +=1\n",
    "            cycleList.append(count)\n",
    "        \n",
    "        two_cycles = 0\n",
    "        list2 = []\n",
    "        for y in self.nxEdges():\n",
    "            list2.append(y)\n",
    "        for x in self.nxEdges():\n",
    "            #print(x)\n",
    "            list2.remove(x)\n",
    "            if x in list2:\n",
    "                #print(list2)\n",
    "                two_cycles += 1\n",
    "        cycleList[2]=two_cycles\n",
    "\n",
    "        \n",
    "        return(cycleList)\n",
    "    \n",
    "    def displayCycles(self):\n",
    "        for i in range(len(self.noCycles())): #print out number of each cycle\n",
    "            if self.noCycles()[i] != 0: #prevents printing out number of k-cycles if there is no k-cycle \n",
    "                print(f\"Number of {i}-cycles is: {self.noCycles()[i]}\")\n",
    "    \n",
    "    \n",
    "        \n",
    "    def noSimplices(self):#not done\n",
    "        return sum(self.noCycles())+1\n",
    "        \n"
   ]
  },
  {
   "cell_type": "code",
   "execution_count": 86,
   "metadata": {},
   "outputs": [
    {
     "data": {
      "text/plain": [
       "([0, 1, 2], ['01', '12', '20'])"
      ]
     },
     "execution_count": 86,
     "metadata": {},
     "output_type": "execute_result"
    }
   ],
   "source": [
    "x = rotationSystem([(1,2),(3,4),(5,0)],[(2,3),(4,5),(0,1)])\n",
    "x.conversion()"
   ]
  },
  {
   "cell_type": "code",
   "execution_count": 87,
   "metadata": {},
   "outputs": [
    {
     "name": "stdout",
     "output_type": "stream",
     "text": [
      "01\n",
      "['10', '23', '01', '34', '01', '23', '42']\n",
      "10\n",
      "23\n",
      "['01', '34', '01', '23', '42']\n",
      "01\n",
      "['34', '01', '23', '42']\n",
      "34\n",
      "01\n",
      "23\n",
      "42\n"
     ]
    },
    {
     "data": {
      "text/plain": [
       "[0, 0, 3, 0]"
      ]
     },
     "execution_count": 87,
     "metadata": {},
     "output_type": "execute_result"
    }
   ],
   "source": [
    "cycleList = [0,0,0,0]\n",
    "two_cycles = 0\n",
    "list1 = [\"01\",\"10\",\"23\",\"01\",\"34\",\"01\",\"23\",\"42\"]\n",
    "list2 = []\n",
    "for y in list1:\n",
    "    list2.append(y)\n",
    "for x in list1:\n",
    "    print(x)\n",
    "    list2.remove(x)\n",
    "    if x in list2:\n",
    "        print(list2)\n",
    "        two_cycles += 1\n",
    "cycleList[2]=two_cycles\n",
    "\n",
    "cycleList"
   ]
  },
  {
   "cell_type": "code",
   "execution_count": 88,
   "metadata": {},
   "outputs": [
    {
     "ename": "AttributeError",
     "evalue": "'str' object has no attribute 'noCycles'",
     "output_type": "error",
     "traceback": [
      "\u001b[1;31m---------------------------------------------------------------------------\u001b[0m",
      "\u001b[1;31mAttributeError\u001b[0m                            Traceback (most recent call last)",
      "\u001b[1;32m<ipython-input-88-b9066fd8eb51>\u001b[0m in \u001b[0;36m<module>\u001b[1;34m()\u001b[0m\n\u001b[1;32m----> 1\u001b[1;33m \u001b[0mx\u001b[0m\u001b[1;33m.\u001b[0m\u001b[0mnoCycles\u001b[0m\u001b[1;33m(\u001b[0m\u001b[1;33m)\u001b[0m\u001b[1;33m\u001b[0m\u001b[0m\n\u001b[0m",
      "\u001b[1;31mAttributeError\u001b[0m: 'str' object has no attribute 'noCycles'"
     ]
    }
   ],
   "source": [
    "x.noCycles()"
   ]
  },
  {
   "cell_type": "code",
   "execution_count": 89,
   "metadata": {},
   "outputs": [
    {
     "ename": "AttributeError",
     "evalue": "'str' object has no attribute 'components'",
     "output_type": "error",
     "traceback": [
      "\u001b[1;31m---------------------------------------------------------------------------\u001b[0m",
      "\u001b[1;31mAttributeError\u001b[0m                            Traceback (most recent call last)",
      "\u001b[1;32m<ipython-input-89-5bd0b957db17>\u001b[0m in \u001b[0;36m<module>\u001b[1;34m()\u001b[0m\n\u001b[1;32m----> 1\u001b[1;33m \u001b[0mx\u001b[0m\u001b[1;33m.\u001b[0m\u001b[0mcomponents\u001b[0m\u001b[1;33m(\u001b[0m\u001b[1;33m)\u001b[0m\u001b[1;33m\u001b[0m\u001b[0m\n\u001b[0m",
      "\u001b[1;31mAttributeError\u001b[0m: 'str' object has no attribute 'components'"
     ]
    }
   ],
   "source": [
    "x.components()"
   ]
  },
  {
   "cell_type": "code",
   "execution_count": 90,
   "metadata": {},
   "outputs": [
    {
     "ename": "AttributeError",
     "evalue": "'str' object has no attribute 'noCycles'",
     "output_type": "error",
     "traceback": [
      "\u001b[1;31m---------------------------------------------------------------------------\u001b[0m",
      "\u001b[1;31mAttributeError\u001b[0m                            Traceback (most recent call last)",
      "\u001b[1;32m<ipython-input-90-b9066fd8eb51>\u001b[0m in \u001b[0;36m<module>\u001b[1;34m()\u001b[0m\n\u001b[1;32m----> 1\u001b[1;33m \u001b[0mx\u001b[0m\u001b[1;33m.\u001b[0m\u001b[0mnoCycles\u001b[0m\u001b[1;33m(\u001b[0m\u001b[1;33m)\u001b[0m\u001b[1;33m\u001b[0m\u001b[0m\n\u001b[0m",
      "\u001b[1;31mAttributeError\u001b[0m: 'str' object has no attribute 'noCycles'"
     ]
    }
   ],
   "source": [
    "x.noCycles()"
   ]
  },
  {
   "cell_type": "code",
   "execution_count": 91,
   "metadata": {},
   "outputs": [
    {
     "data": {
      "text/plain": [
       "['01', '12', '20', '03', '32', '45', '56', '64', '07', '78', '83', '32', '11']"
      ]
     },
     "execution_count": 91,
     "metadata": {},
     "output_type": "execute_result"
    }
   ],
   "source": [
    "v = [(1,2,3,16),(4,5,32,33),(6,7,8,31),(9,0,20,30),(10,15),(11,12),(13,14),(17,18),(19,21)] \n",
    "e = [(3,4),(5,7),(6,2),(1,0),(9,8),(10,11),(12,13),(14,15),(16,17),(18,19),(21,20),(30,31),(32,33)]\n",
    "y = rotationSystem(v,e) #graph with 3 triangles, 2 are connected to each other, the other isnt\n",
    "y.nxEdges()"
   ]
  },
  {
   "cell_type": "code",
   "execution_count": 92,
   "metadata": {},
   "outputs": [
    {
     "data": {
      "text/plain": [
       "2"
      ]
     },
     "execution_count": 92,
     "metadata": {},
     "output_type": "execute_result"
    }
   ],
   "source": [
    "y.components()"
   ]
  },
  {
   "cell_type": "code",
   "execution_count": 94,
   "metadata": {},
   "outputs": [
    {
     "name": "stdout",
     "output_type": "stream",
     "text": [
      "Number of 1-cycles is: 1\n",
      "Number of 2-cycles is: 1\n",
      "Number of 3-cycles is: 3\n",
      "Number of 4-cycles is: 1\n"
     ]
    }
   ],
   "source": [
    "y.displayCycles()"
   ]
  },
  {
   "cell_type": "code",
   "execution_count": 84,
   "metadata": {},
   "outputs": [
    {
     "data": {
      "text/plain": [
       "6"
      ]
     },
     "execution_count": 84,
     "metadata": {},
     "output_type": "execute_result"
    }
   ],
   "source": [
    "y.noSimplices()"
   ]
  },
  {
   "cell_type": "code",
   "execution_count": 10,
   "metadata": {},
   "outputs": [
    {
     "data": {
      "text/plain": [
       "0"
      ]
     },
     "execution_count": 10,
     "metadata": {},
     "output_type": "execute_result"
    }
   ],
   "source": [
    "z = rotationSystem([(1,2,3),(5,6),(4)],[(1,5),(6,2),(3,4)])\n",
    "z.displayCycles()\n",
    "z.longestCycle()\n"
   ]
  },
  {
   "cell_type": "code",
   "execution_count": null,
   "metadata": {},
   "outputs": [],
   "source": []
  }
 ],
 "metadata": {
  "kernelspec": {
   "display_name": "Python 3",
   "language": "python",
   "name": "python3"
  },
  "language_info": {
   "codemirror_mode": {
    "name": "ipython",
    "version": 3
   },
   "file_extension": ".py",
   "mimetype": "text/x-python",
   "name": "python",
   "nbconvert_exporter": "python",
   "pygments_lexer": "ipython3",
   "version": "3.7.0"
  }
 },
 "nbformat": 4,
 "nbformat_minor": 4
}
