{
 "cells": [
  {
   "cell_type": "code",
   "execution_count": 5,
   "id": "5d520f9a",
   "metadata": {},
   "outputs": [
    {
     "ename": "ModuleNotFoundError",
     "evalue": "No module named 'FYP'",
     "output_type": "error",
     "traceback": [
      "\u001b[0;31m---------------------------------------------------------------------------\u001b[0m",
      "\u001b[0;31mModuleNotFoundError\u001b[0m                       Traceback (most recent call last)",
      "\u001b[0;32m/tmp/ipykernel_5433/290566521.py\u001b[0m in \u001b[0;36m<module>\u001b[0;34m\u001b[0m\n\u001b[0;32m----> 1\u001b[0;31m \u001b[0;32mimport\u001b[0m \u001b[0mFYP\u001b[0m \u001b[0;32mas\u001b[0m \u001b[0mrotationSystem\u001b[0m\u001b[0;34m\u001b[0m\u001b[0;34m\u001b[0m\u001b[0m\n\u001b[0m",
      "\u001b[0;31mModuleNotFoundError\u001b[0m: No module named 'FYP'"
     ]
    }
   ],
   "source": [
    "import FYP as rotationSystem\n"
   ]
  },
  {
   "cell_type": "markdown",
   "id": "31793869",
   "metadata": {
    "slideshow": {
     "slide_type": "slide"
    }
   },
   "source": [
    "## Graphs "
   ]
  },
  {
   "cell_type": "markdown",
   "id": "c568def5",
   "metadata": {
    "slideshow": {
     "slide_type": "subslide"
    }
   },
   "source": [
    "Simple Graph is a finite non-empty set of vertices with a set of unordered distinct pairs of vertices called edges, loops and multiple edges are not permitted.\n",
    "\n",
    "(add image)"
   ]
  },
  {
   "cell_type": "markdown",
   "id": "de8f3b9e",
   "metadata": {
    "slideshow": {
     "slide_type": "subslide"
    }
   },
   "source": [
    "Directed Graph is a simple graph where the edges are directed.\n",
    "\n",
    "(add image)"
   ]
  },
  {
   "cell_type": "markdown",
   "id": "ac0448ef",
   "metadata": {
    "slideshow": {
     "slide_type": "subslide"
    }
   },
   "source": [
    "Multigraph is a simple graph that allows loops and mutliple edges, the edges are not directed.\n",
    "\n",
    "(add image)"
   ]
  },
  {
   "cell_type": "markdown",
   "id": "219f8bcf",
   "metadata": {
    "slideshow": {
     "slide_type": "subslide"
    }
   },
   "source": [
    "Multidigraph is a multigraph where the edges are directed.\n",
    "\n",
    "(add image)"
   ]
  },
  {
   "cell_type": "markdown",
   "id": "e0d1f59f",
   "metadata": {
    "slideshow": {
     "slide_type": "slide"
    }
   },
   "source": [
    "## Surfaces"
   ]
  },
  {
   "cell_type": "markdown",
   "id": "33a6409d",
   "metadata": {
    "slideshow": {
     "slide_type": "subslide"
    }
   },
   "source": [
    "The genus of a closed, orientable surface is the maximum number of cuts along non-intersecting closed simple curves that will not disconnect the surface.  For example, the genus of the double torus $S_2$ is 2. "
   ]
  },
  {
   "cell_type": "markdown",
   "id": "292a7d8d",
   "metadata": {},
   "source": [
    "Theorem 1: every connected closed compact orientable surface is homeomorphic to exactly one $S_i$."
   ]
  },
  {
   "cell_type": "markdown",
   "id": "cb74b2ea",
   "metadata": {
    "slideshow": {
     "slide_type": "slide"
    }
   },
   "source": [
    "The surfaces $S_0,S_1,S_2$,...  form a complete set of representatives of the homeomorphism types of closed, connected, orientable surfaces (by Theorem 1).  Moreover,  they  are  distinguishable  by  a  single  integer-valued  invariant,  the  Euler characteristic\n",
    "\n",
    "(add image)"
   ]
  },
  {
   "cell_type": "markdown",
   "id": "c14a8afb",
   "metadata": {
    "slideshow": {
     "slide_type": "slide"
    }
   },
   "source": [
    "The Euler characteristic of an orientable surface is given by $χ(S_g) = 2−2g$ where $g$ is the genus of the surface. If two closed, connected, orientable surfaces have the same Euler characteristic they are homeomorphic.\n",
    "\n",
    "(add example)"
   ]
  },
  {
   "cell_type": "markdown",
   "id": "d71a1800",
   "metadata": {},
   "source": []
  },
  {
   "cell_type": "markdown",
   "id": "03a65afc",
   "metadata": {
    "slideshow": {
     "slide_type": "slide"
    }
   },
   "source": [
    "## Embedded graphs"
   ]
  },
  {
   "cell_type": "markdown",
   "id": "64a12800",
   "metadata": {
    "slideshow": {
     "slide_type": "subslide"
    }
   },
   "source": [
    "\n",
    "An embedded graph is a graph drawn on a surface such that no edges intersect.\n"
   ]
  },
  {
   "cell_type": "markdown",
   "id": "8592c1cb",
   "metadata": {
    "slideshow": {
     "slide_type": "subslide"
    }
   },
   "source": [
    "A cellularly embedded graph is a graph drawn on a surface such that edges only intersect at their ends, and each connected component of is homeomorphic to a disc.\n",
    "\n",
    "(add image)"
   ]
  },
  {
   "cell_type": "markdown",
   "id": "8237537d",
   "metadata": {
    "slideshow": {
     "slide_type": "subslide"
    }
   },
   "source": [
    "embedded and cellularry embedded, link between that and rotation system\n"
   ]
  },
  {
   "cell_type": "markdown",
   "id": "51423d82",
   "metadata": {
    "slideshow": {
     "slide_type": "slide"
    }
   },
   "source": [
    "## Rotation System"
   ]
  },
  {
   "cell_type": "markdown",
   "id": "db29e26c",
   "metadata": {
    "slideshow": {
     "slide_type": "subslide"
    }
   },
   "source": []
  },
  {
   "cell_type": "markdown",
   "id": "a6526531",
   "metadata": {
    "slideshow": {
     "slide_type": "subslide"
    }
   },
   "source": [
    "A rotation system consists of an abstract graph and a cyclic ordering of the half-edges at each vertex, and a set of involutions of the half edges that correspond to the edges of the graph. "
   ]
  },
  {
   "cell_type": "markdown",
   "id": "e691f3f9",
   "metadata": {
    "slideshow": {
     "slide_type": "subslide"
    }
   },
   "source": [
    "The number of faces and in fact also the length of each face in the rotation system can be found by multiplying the orbits in the vertex list with those in the edges list. The resulting number of orbits is the number of faces in the graph, while the length of each orbit is the number of sides in the respective face."
   ]
  },
  {
   "cell_type": "markdown",
   "id": "ae60cc73",
   "metadata": {
    "slideshow": {
     "slide_type": "subslide"
    }
   },
   "source": [
    "Every rotation system corresponds to a unique cellularly embedded graph (fact check this) - describe how to convert from rotation system to cellulary embedded and vice versa, add image examples"
   ]
  },
  {
   "cell_type": "markdown",
   "id": "a3333093",
   "metadata": {
    "slideshow": {
     "slide_type": "slide"
    }
   },
   "source": [
    "## Describe how methods works"
   ]
  },
  {
   "cell_type": "markdown",
   "id": "9f976d5e",
   "metadata": {
    "slideshow": {
     "slide_type": "subslide"
    }
   },
   "source": [
    "Describe the rotation system class we made, what it takes as input and some of the methods in the class."
   ]
  },
  {
   "cell_type": "markdown",
   "id": "be005f79",
   "metadata": {
    "slideshow": {
     "slide_type": "subslide"
    }
   },
   "source": [
    "Describe in words how method for finding boundary walk of a graph starting at a given half edge works\n",
    "\n",
    "Add image and test method below as an example of how it works."
   ]
  },
  {
   "cell_type": "markdown",
   "id": "5d437315",
   "metadata": {
    "slideshow": {
     "slide_type": "subslide"
    }
   },
   "source": [
    "Example code and accompanying image goes here"
   ]
  },
  {
   "cell_type": "markdown",
   "id": "37f7e9ab",
   "metadata": {
    "slideshow": {
     "slide_type": "subslide"
    }
   },
   "source": [
    "Describe in words how we can use this to find all cycles in a rotation system"
   ]
  },
  {
   "cell_type": "markdown",
   "id": "ab0cefe3",
   "metadata": {
    "slideshow": {
     "slide_type": "subslide"
    }
   },
   "source": [
    "Use same example as above and run code below to show it works"
   ]
  },
  {
   "cell_type": "markdown",
   "id": "4088bdb0",
   "metadata": {
    "slideshow": {
     "slide_type": "subslide"
    }
   },
   "source": [
    "Show how you can draw a graph using this? Show code?"
   ]
  },
  {
   "cell_type": "code",
   "execution_count": null,
   "id": "116ed59d",
   "metadata": {},
   "outputs": [],
   "source": []
  },
  {
   "cell_type": "markdown",
   "id": "857741aa",
   "metadata": {
    "slideshow": {
     "slide_type": "slide"
    }
   },
   "source": [
    "## Examples"
   ]
  },
  {
   "cell_type": "markdown",
   "id": "f3dc1c94",
   "metadata": {
    "slideshow": {
     "slide_type": "subslide"
    }
   },
   "source": [
    "Add more complicated examples, first show image and the rotation system input, then run different methods and display the output."
   ]
  },
  {
   "cell_type": "code",
   "execution_count": null,
   "id": "eea984f2",
   "metadata": {},
   "outputs": [],
   "source": [
    "v4 = [(1,2,3,4),(34,37,36,35),(30,31,32,33,44),(28,27,29),(26,25,43,42),(39,40,41,38),(23,24,21,22),(20,19,18,17),(15,16,14,13),(5,6,7,8,9),(10,11,12)]\n",
    "e4 = [(1,37),(35,3),(2,44),(33,34),(4,5),(6,36),(13,12),(10,9),(8,18),(11,19),(16,17),(7,14),(20,21),(15,22),(24,25),(23,40),(39,43),(26,27),(42,31),(38,32),(29,30),(28,41)]\n",
    "r4 = rotationSystem(v4,e4)\n",
    "r4.displayCycles()\n",
    "print(f\"Number of faces: {r4.noFaces()}\")\n",
    "G4 = nx.MultiGraph(r4.conversion())\n",
    "nx.draw(G4)"
   ]
  },
  {
   "attachments": {
    "torus%20graph.png": {
     "image/png": "[encoded data removed]"
    }
   },
   "cell_type": "markdown",
   "id": "63c6b870",
   "metadata": {},
   "source": [
    "![torus%20graph.png](attachment:torus%20graph.png)"
   ]
  },
  {
   "cell_type": "code",
   "execution_count": null,
   "id": "0118a468",
   "metadata": {},
   "outputs": [],
   "source": []
  }
 ],
 "metadata": {
  "celltoolbar": "Slideshow",
  "kernelspec": {
   "display_name": "Python 3 (ipykernel)",
   "language": "python",
   "name": "python3"
  },
  "language_info": {
   "codemirror_mode": {
    "name": "ipython",
    "version": 3
   },
   "file_extension": ".py",
   "mimetype": "text/x-python",
   "name": "python",
   "nbconvert_exporter": "python",
   "pygments_lexer": "ipython3",
   "version": "3.9.7"
  }
 },
 "nbformat": 4,
 "nbformat_minor": 5
}
