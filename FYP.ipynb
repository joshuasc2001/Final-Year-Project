{
 "cells": [
  {
   "cell_type": "code",
   "execution_count": 11,
   "metadata": {},
   "outputs": [],
   "source": [
    "import random"
   ]
  },
  {
   "cell_type": "code",
   "execution_count": 113,
   "metadata": {},
   "outputs": [
    {
     "name": "stdout",
     "output_type": "stream",
     "text": [
      "start transpose (1, 2)\n",
      "[(0, 1), (2, 3)]\n",
      "triangle\n",
      "[(0, 1), (2, 3), (0, 1)]\n"
     ]
    }
   ],
   "source": [
    "def findTriangle(transposes, edges):\n",
    "#     start = random.choice(transposes)\n",
    "    start = transposes[0]\n",
    "    print(f\"start transpose {start}\")\n",
    "    \n",
    "    neigh = findNeigbours(start, edges)\n",
    "    \n",
    "    for i in range(10):\n",
    "        \n",
    "\n",
    "findTriangle([(1,2),(3,4),(0,5)],[(0,1), (2,3), (4,5)])"
   ]
  },
  {
   "cell_type": "code",
   "execution_count": 105,
   "metadata": {},
   "outputs": [
    {
     "name": "stdout",
     "output_type": "stream",
     "text": [
      "start transpose (1, 2, 7)\n",
      "triangle\n",
      "[(1, 2, 7), (2, 3), (0, 1), (7, 8)]\n"
     ]
    }
   ],
   "source": [
    "findTriangle([(1,2,7),(3,4,10),(0,5),(8,9)],[(7,8), (9,10), (0,1), (2,3), (4,5)])"
   ]
  },
  {
   "cell_type": "code",
   "execution_count": 8,
   "metadata": {},
   "outputs": [],
   "source": [
    "def findNeigbours(transpose, edges):\n",
    "    \"\"\"Takes in a vertex as a pair of two half edges and finds its neighbour\"\"\"\n",
    "    neighbourList = []\n",
    "    for i in edges:\n",
    "        for j in transpose:\n",
    "            if j in i:\n",
    "                neighbourList.append(i);\n",
    "    return neighbourList"
   ]
  },
  {
   "cell_type": "code",
   "execution_count": 9,
   "metadata": {},
   "outputs": [
    {
     "data": {
      "text/plain": [
       "[(0, 1), (2, 3)]"
      ]
     },
     "execution_count": 9,
     "metadata": {},
     "output_type": "execute_result"
    }
   ],
   "source": [
    "findNeigbours((1,2), [(0,1), (2,3), (4,5)])"
   ]
  },
  {
   "cell_type": "code",
   "execution_count": null,
   "metadata": {},
   "outputs": [],
   "source": [
    "def isTriangleHelper(v, checked, stack):\n",
    "    "
   ]
  }
 ],
 "metadata": {
  "kernelspec": {
   "display_name": "SageMath 9.2",
   "language": "sage",
   "name": "sagemath"
  },
  "language_info": {
   "codemirror_mode": {
    "name": "ipython",
    "version": 3
   },
   "file_extension": ".py",
   "mimetype": "text/x-python",
   "name": "python",
   "nbconvert_exporter": "python",
   "pygments_lexer": "ipython3",
   "version": "3.9.7"
  }
 },
 "nbformat": 4,
 "nbformat_minor": 4
}
