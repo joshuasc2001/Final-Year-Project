{
 "cells": [
  {
   "cell_type": "code",
   "execution_count": 3,
   "id": "seventh-demographic",
   "metadata": {},
   "outputs": [],
   "source": [
    "class RotationSystem:\n",
    "    \n",
    "    def __init__(self, graphList):\n",
    "        self.graphList = graphList\n",
    "    "
   ]
  },
  {
   "cell_type": "code",
   "execution_count": 4,
   "id": "republican-brush",
   "metadata": {},
   "outputs": [],
   "source": [
    "x = RotationSystem([1,2,3])"
   ]
  },
  {
   "cell_type": "code",
   "execution_count": 5,
   "id": "touched-carbon",
   "metadata": {},
   "outputs": [
    {
     "data": {
      "text/plain": [
       "<__main__.RotationSystem object at 0x7fd57c9c50a0>"
      ]
     },
     "execution_count": 5,
     "metadata": {},
     "output_type": "execute_result"
    }
   ],
   "source": [
    "x"
   ]
  },
  {
   "cell_type": "code",
   "execution_count": null,
   "id": "necessary-learning",
   "metadata": {},
   "outputs": [],
   "source": []
  }
 ],
 "metadata": {
  "kernelspec": {
   "display_name": "SageMath 9.2",
   "language": "sage",
   "name": "sagemath"
  },
  "language_info": {
   "codemirror_mode": {
    "name": "ipython",
    "version": 3
   },
   "file_extension": ".py",
   "mimetype": "text/x-python",
   "name": "python",
   "nbconvert_exporter": "python",
   "pygments_lexer": "ipython3",
   "version": "3.9.7"
  }
 },
 "nbformat": 4,
 "nbformat_minor": 5
}
