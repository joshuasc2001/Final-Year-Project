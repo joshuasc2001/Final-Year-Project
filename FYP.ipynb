{
 "cells": [
  {
   "cell_type": "code",
   "execution_count": 1,
   "metadata": {},
   "outputs": [],
   "source": [
    "def findHalfEdge(list1, a):\n",
    "    # find y in trans list - pick one of these z to go to next\n",
    "        for l in list1:\n",
    "            if a in l:\n",
    "                if l[0] == a:\n",
    "                    b = l[1]\n",
    "                else:\n",
    "                    b = l[0]\n",
    "                print(\"for a = \", a, \" transposition is \", l, \" so b is \", b )\n",
    "        return b\n",
    "        # loop over all possible values for b? - just did for simple case where only 2 half edges are beside each other"
   ]
  },
  {
   "cell_type": "code",
   "execution_count": 2,
   "metadata": {},
   "outputs": [
    {
     "name": "stdout",
     "output_type": "stream",
     "text": [
      "for a =  2  transposition is  (1, 2)  so b is  1\n"
     ]
    },
    {
     "data": {
      "text/plain": [
       "1"
      ]
     },
     "execution_count": 2,
     "metadata": {},
     "output_type": "execute_result"
    }
   ],
   "source": [
    "findHalfEdge([(1,2),(3,4),(0,5)],2)"
   ]
  },
  {
   "cell_type": "code",
   "execution_count": 4,
   "metadata": {},
   "outputs": [],
   "source": [
    "def findTriangle(transposes, edges):\n",
    "    pass\n",
    "    \n",
    "findTriangle([(1,2),(3,4),(0,5)],[(0,1), (2,3), (4,5)])"
   ]
  },
  {
   "cell_type": "code",
   "execution_count": null,
   "metadata": {},
   "outputs": [],
   "source": [
    "findTriangle([(1,2,7),(3,4,10),(0,5),(8,9)],[(7,8), (9,10), (0,1), (2,3), (4,5)])"
   ]
  },
  {
   "cell_type": "code",
   "execution_count": null,
   "metadata": {},
   "outputs": [],
   "source": []
  }
 ],
 "metadata": {
  "kernelspec": {
   "display_name": "SageMath 9.2",
   "language": "sage",
   "name": "sagemath"
  },
  "language_info": {
   "codemirror_mode": {
    "name": "ipython",
    "version": 3
   },
   "file_extension": ".py",
   "mimetype": "text/x-python",
   "name": "python",
   "nbconvert_exporter": "python",
   "pygments_lexer": "ipython3",
   "version": "3.9.7"
  }
 },
 "nbformat": 4,
 "nbformat_minor": 4
}
