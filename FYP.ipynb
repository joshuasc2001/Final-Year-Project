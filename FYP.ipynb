{
 "cells": [
  {
   "cell_type": "code",
   "execution_count": 66,
   "metadata": {},
   "outputs": [],
   "source": [
    "import networkx as nx\n",
    "class rotationSystem:\n",
    "\n",
    "    def __init__(self, vertex, edge):\n",
    "        \"\"\"Takes in two lists of tuples of half edges\"\"\"\n",
    "        self.vertex = vertex\n",
    "        self.edge = edge\n",
    "        \n",
    "    def noVertices(self):\n",
    "        return len(self.vertex)\n",
    "    \n",
    "    def noEdges(self):\n",
    "        return len(self.edge)\n",
    "\n",
    "    def conversion(self):\n",
    "        \"\"\"Converts a list of half edges and a list of half edge pairs into a list of edges to\n",
    "            be used with networkx\"\"\"\n",
    "        vertices = []\n",
    "        edges = []\n",
    "        vertexHalfEdge = {}\n",
    "\n",
    "        for i in range(len(self.vertex)):  # creates a list of the vertices\n",
    "            vertexHalfEdge[i] = self.vertex[i]\n",
    "            vertices.append(i)\n",
    "\n",
    "        for e in self.edge:\n",
    "            x, y = e\n",
    "            for key, value in vertexHalfEdge.items():\n",
    "                try:\n",
    "                    if x in value:\n",
    "                        vertex1 = key\n",
    "                    if y in value:\n",
    "                        vertex2 = key\n",
    "                except:\n",
    "                    if x == value:\n",
    "                        vertex1 = key\n",
    "                    if y == value:\n",
    "                        vertex2 = key\n",
    "            edges.append(str(vertex1)+str(vertex2))\n",
    "\n",
    "        return edges\n",
    "    \n",
    "\n",
    "        \n",
    "    def findRotation(self, list1, x):\n",
    "        \"\"\"Find half edge rotation\"\"\"\n",
    "        for l in list1:\n",
    "            if x in l:\n",
    "                for i in range(len(l)):\n",
    "                    if l[i] == x:\n",
    "                        halfEdge = l[(i+1) % len(l)]\n",
    "        return halfEdge\n",
    "\n",
    "    def findEdge(self, list1, x):\n",
    "        \"\"\"Find edge permutation\"\"\"\n",
    "        for l in list1:\n",
    "            if x in l:\n",
    "                if l[0] == x:\n",
    "                    return l[1]\n",
    "                else:\n",
    "                    return l[0]\n",
    "\n",
    "    #find walk - for one edge\n",
    "    def findWalk(self, permutation, edges, o):\n",
    "        \"\"\"Find border walk given half edge\"\"\"\n",
    "        #set original half edge\n",
    "        startEdge = o\n",
    "        cycleList = [o]\n",
    "        currentEdge = self.findRotation(permutation, o)\n",
    "        cycleList.append(currentEdge)\n",
    "        currentEdge = self.findEdge(edges,currentEdge)\n",
    "        cycleList.append(currentEdge)\n",
    "        while currentEdge != o:\n",
    "            currentEdge = self.findRotation(permutation, currentEdge)\n",
    "            cycleList.append(currentEdge)\n",
    "            currentEdge = self.findEdge(edges,currentEdge)\n",
    "            cycleList.append(currentEdge)\n",
    "        return cycleList\n",
    "\n",
    "\n",
    "    def findAllWalks(self):\n",
    "        \"\"\"Find all border walks\"\"\"\n",
    "        checked = []\n",
    "        cycles = []\n",
    "        for i in range(len(self.edge)):\n",
    "            for j in range(2):\n",
    "                if self.edge[i][j] not in checked:\n",
    "                    walk = self.findWalk(self.vertex, self.edge, self.edge[i][j])\n",
    "                    \n",
    "                    cycles.append(walk)\n",
    "                    for x in range(0, len(walk),2):\n",
    "                        checked.append(walk[x])\n",
    "                    # print(checked)\n",
    "        for l in cycles:\n",
    "            for k in cycles:\n",
    "                if k != l:\n",
    "                    if set(k) == set(l):\n",
    "                        cycles.remove(k)\n",
    "                        \n",
    "        return cycles\n",
    "\n",
    "    def noCycles(self):\n",
    "        \"\"\"Returns a list with the number of each cycle\"\"\"\n",
    "        cycles = []\n",
    "        allCycles = []\n",
    "        walks = self.findAllWalks()\n",
    "        \n",
    "        for i in walks:\n",
    "            allCycles.append(int((len(i)-1)/2)) # walk is made up of 2 half edges for each vertex so need to divide by 2 and take away 1 as first half edge is counted twice\n",
    "        \n",
    "        for i in range(max(allCycles)+1):\n",
    "            counter = 0\n",
    "            for j in allCycles:\n",
    "                if j == i:\n",
    "                    counter +=1\n",
    "            cycles.append(counter)\n",
    "        \n",
    "        return cycles\n",
    "                \n",
    "    #may change to replace 0,1,2,3,4,...-cycles to their actual names\n",
    "    def displayCycles(self):\n",
    "        \"\"\"Displays the number of cycles \"\"\"\n",
    "        for i in range(len(self.noCycles())): #print out number of each cycle\n",
    "            if self.noCycles()[i] != 0: #prevents printing out number of k-cycles if there is no k-cycle \n",
    "                print(f\"Number of {i}-cycles is: {self.noCycles()[i]}\")\n",
    "    \n",
    "    def noFaces(self):\n",
    "        \"\"\"returns the number of faces in a planar graph\"\"\"\n",
    "        return -(self.noVertices() - self.noEdges() - 2)\n",
    "        \n"
   ]
  },
  {
   "cell_type": "code",
   "execution_count": 77,
   "metadata": {},
   "outputs": [
    {
     "name": "stdout",
     "output_type": "stream",
     "text": [
      "Number of 3-cycles is: 1\n",
      "Number of 4-cycles is: 1\n",
      "Number of 5-cycles is: 1\n",
      "Number of faces: 3\n"
     ]
    },
    {
     "data": {
      "image/png": "[encoded data removed]",
      "text/plain": [
       "<Figure size 432x288 with 1 Axes>"
      ]
     },
     "metadata": {},
     "output_type": "display_data"
    }
   ],
   "source": [
    "e = [(1,2),(3,4,5),(6,7),(8,9,10),(11,12)]\n",
    "v = [(2,3),(5,6),(7,8),(9,4),(10,11),(12,1)]\n",
    "r = rotationSystem(e,v)\n",
    "# r.findAllWalks()\n",
    "r.displayCycles()\n",
    "print(f\"Number of faces: {r.noFaces()}\")\n",
    "G = nx.MultiGraph(r.conversion())\n",
    "nx.draw(G)"
   ]
  },
  {
   "cell_type": "code",
   "execution_count": 79,
   "metadata": {},
   "outputs": [
    {
     "data": {
      "text/plain": [
       "2"
      ]
     },
     "execution_count": 79,
     "metadata": {},
     "output_type": "execute_result"
    }
   ],
   "source": [
    "e = [(1,4),(2,3)]\n",
    "v = [(1,2),(3,4)]\n",
    "s = rotationSystem(e,v)\n",
    "s.noFaces()"
   ]
  },
  {
   "cell_type": "code",
   "execution_count": null,
   "metadata": {},
   "outputs": [],
   "source": []
  }
 ],
 "metadata": {
  "kernelspec": {
   "display_name": "Python 3 (ipykernel)",
   "language": "python",
   "name": "python3"
  },
  "language_info": {
   "codemirror_mode": {
    "name": "ipython",
    "version": 3
   },
   "file_extension": ".py",
   "mimetype": "text/x-python",
   "name": "python",
   "nbconvert_exporter": "python",
   "pygments_lexer": "ipython3",
   "version": "3.9.7"
  }
 },
 "nbformat": 4,
 "nbformat_minor": 2
}
