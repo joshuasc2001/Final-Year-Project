{
 "cells": [
  {
   "cell_type": "code",
   "execution_count": 1,
   "metadata": {},
   "outputs": [],
   "source": [
    "import networkx as nx\n",
    "class rotationSystem:\n",
    "\n",
    "    def __init__(self, vertex, edge):\n",
    "        \"\"\"Takes in two lists of tuples of half edges\"\"\"\n",
    "        self.vertex = vertex\n",
    "        self.edge = edge\n",
    "        \n",
    "    def noVertices(self):\n",
    "        return len(self.vertex)\n",
    "    \n",
    "    def noEdges(self):\n",
    "        return len(self.edge)\n",
    "\n",
    "    def conversion(self):\n",
    "        \"\"\"Converts a list of half edges and a list of half edge pairs into a list of edges to\n",
    "            be used with networkx\"\"\"\n",
    "        vertices = []\n",
    "        edges = []\n",
    "        vertexHalfEdge = {}\n",
    "\n",
    "        for i in range(len(self.vertex)):  # creates a list of the vertices\n",
    "            vertexHalfEdge[i] = self.vertex[i]\n",
    "            vertices.append(i)\n",
    "\n",
    "        for e in self.edge:\n",
    "            x, y = e\n",
    "            for key, value in vertexHalfEdge.items():\n",
    "                try:\n",
    "                    if x in value:\n",
    "                        vertex1 = key\n",
    "                    if y in value:\n",
    "                        vertex2 = key\n",
    "                except:\n",
    "                    if x == value:\n",
    "                        vertex1 = key\n",
    "                    if y == value:\n",
    "                        vertex2 = key\n",
    "            edges.append(str(vertex1)+str(vertex2))\n",
    "\n",
    "        return edges\n",
    "    \n",
    "\n",
    "        \n",
    "    def findRotation(self, list1, x):\n",
    "        \"\"\"Find half edge rotation\"\"\"\n",
    "        for l in list1:\n",
    "            if x in l:\n",
    "                for i in range(len(l)):\n",
    "                    if l[i] == x:\n",
    "                        halfEdge = l[(i+1) % len(l)]\n",
    "        return halfEdge\n",
    "\n",
    "    def findEdge(self, list1, x):\n",
    "        \"\"\"Find edge permutation\"\"\"\n",
    "        for l in list1:\n",
    "            if x in l:\n",
    "                if l[0] == x:\n",
    "                    return l[1]\n",
    "                else:\n",
    "                    return l[0]\n",
    "\n",
    "    #find walk - for one edge\n",
    "    def findWalk(self, permutation, edges, o):\n",
    "        \"\"\"Find border walk given half edge\"\"\"\n",
    "        #set original half edge\n",
    "        startEdge = o\n",
    "        cycleList = [o]\n",
    "        currentEdge = self.findRotation(permutation, o)\n",
    "        cycleList.append(currentEdge)\n",
    "        currentEdge = self.findEdge(edges,currentEdge)\n",
    "        cycleList.append(currentEdge)\n",
    "        while currentEdge != o:\n",
    "            currentEdge = self.findRotation(permutation, currentEdge)\n",
    "            cycleList.append(currentEdge)\n",
    "            currentEdge = self.findEdge(edges,currentEdge)\n",
    "            cycleList.append(currentEdge)\n",
    "        return cycleList\n",
    "\n",
    "\n",
    "    def findAllWalks(self):\n",
    "        \"\"\"Find all border walks\"\"\"\n",
    "        checked = []\n",
    "        cycles = []\n",
    "        for i in range(len(self.edge)):\n",
    "            for j in range(2):\n",
    "                if self.edge[i][j] not in checked:\n",
    "                    walk = self.findWalk(self.vertex, self.edge, self.edge[i][j])\n",
    "                    \n",
    "                    cycles.append(walk)\n",
    "                    for x in range(0, len(walk),2):\n",
    "                        checked.append(walk[x])\n",
    "                    # print(checked)\n",
    "        for l in cycles:\n",
    "            for k in cycles:\n",
    "                if k != l:\n",
    "                    if set(k) == set(l):\n",
    "                        cycles.remove(k)\n",
    "                        \n",
    "        return cycles\n",
    "\n",
    "    def noCycles(self):\n",
    "        \"\"\"Returns a list with the number of each cycle\"\"\"\n",
    "        cycles = []\n",
    "        allCycles = []\n",
    "        walks = self.findAllWalks()\n",
    "        \n",
    "        for i in walks:\n",
    "            allCycles.append(int((len(i)-1)/2)) # walk is made up of 2 half edges for each vertex so need to divide by 2 and take away 1 as first half edge is counted twice\n",
    "        \n",
    "        for i in range(max(allCycles)+1):\n",
    "            counter = 0\n",
    "            for j in allCycles:\n",
    "                if j == i:\n",
    "                    counter +=1\n",
    "            cycles.append(counter)\n",
    "        \n",
    "        return cycles\n",
    "                \n",
    "    #may change to replace 0,1,2,3,4,...-cycles to their actual names\n",
    "    def displayCycles(self):\n",
    "        \"\"\"Displays the number of cycles \"\"\"\n",
    "        for i in range(len(self.noCycles())): #print out number of each cycle\n",
    "            if self.noCycles()[i] != 0: #prevents printing out number of k-cycles if there is no k-cycle \n",
    "                print(f\"Number of {i}-cycles is: {self.noCycles()[i]}\")\n",
    "    \n",
    "    def noFaces(self):\n",
    "        return len(self.findAllWalks())\n",
    "        \n",
    "    \n",
    "    def findGenus(self):\n",
    "        return (1 - 0.5*(self.noVertices() - self.noEdges() + self.noFaces()))\n",
    "        \n",
    "        \n"
   ]
  },
  {
   "cell_type": "code",
   "execution_count": 2,
   "metadata": {},
   "outputs": [
    {
     "name": "stdout",
     "output_type": "stream",
     "text": [
      "Number of 3-cycles is: 1\n",
      "Number of 4-cycles is: 1\n",
      "Number of 5-cycles is: 1\n",
      "Number of faces: 3\n"
     ]
    }
   ],
   "source": [
    "e = [(1,2),(3,4,5),(6,7),(8,9,10),(11,12)]\n",
    "v = [(2,3),(5,6),(7,8),(9,4),(10,11),(12,1)]\n",
    "r = rotationSystem(e,v)\n",
    "r.displayCycles()\n",
    "print(f\"Number of faces: {r.noFaces()}\")\n",
    "G = nx.MultiGraph(r.conversion())\n",
    "nx.draw(G)"
   ]
  },
  {
   "cell_type": "code",
   "execution_count": 3,
   "metadata": {},
   "outputs": [
    {
     "data": {
      "text/plain": [
       "0.0"
      ]
     },
     "execution_count": 3,
     "metadata": {},
     "output_type": "execute_result"
    }
   ],
   "source": [
    "r.findGenus()"
   ]
  },
  {
   "cell_type": "code",
   "execution_count": 4,
   "metadata": {},
   "outputs": [
    {
     "name": "stdout",
     "output_type": "stream",
     "text": [
      "Number of 3-cycles is: 3\n",
      "Number of 4-cycles is: 1\n",
      "Number of 7-cycles is: 1\n",
      "Number of faces: 5\n"
     ]
    },
    {
     "data": {
      "image/png": "[encoded data removed]",
      "text/plain": [
       "<Figure size 432x288 with 1 Axes>"
      ]
     },
     "metadata": {},
     "output_type": "display_data"
    }
   ],
   "source": [
    "v1 = [(2,3),(4,5,12,14),(6,20,7),(8,15,9,11),(10,1,13), (18,19),(16,17)]\n",
    "e1 = [(1,2),(3,4),(5,6),(7,8),(9,10),(11,12),(13,14),(15,16),(17,18),(19,20)]\n",
    "r1 = rotationSystem(v1,e1)\n",
    "r1.displayCycles()\n",
    "print(f\"Number of faces: {r1.noFaces()}\")\n",
    "G1 = nx.MultiGraph(r1.conversion())\n",
    "nx.draw(G1)"
   ]
  },
  {
   "cell_type": "code",
   "execution_count": 5,
   "metadata": {},
   "outputs": [
    {
     "data": {
      "text/plain": [
       "0.0"
      ]
     },
     "execution_count": 5,
     "metadata": {},
     "output_type": "execute_result"
    }
   ],
   "source": [
    "r1.findGenus()"
   ]
  },
  {
   "cell_type": "code",
   "execution_count": 6,
   "metadata": {},
   "outputs": [
    {
     "name": "stdout",
     "output_type": "stream",
     "text": [
      "Number of 3-cycles is: 3\n",
      "Number of 4-cycles is: 2\n",
      "Number of 5-cycles is: 1\n",
      "Number of faces: 6\n"
     ]
    },
    {
     "data": {
      "image/png": "[encoded data removed]",
      "text/plain": [
       "<Figure size 432x288 with 1 Axes>"
      ]
     },
     "metadata": {},
     "output_type": "display_data"
    }
   ],
   "source": [
    "v2 = [(2,22,3),(4,5,12,14),(6,20,7),(8,15,9,11),(10,1,13), (18,19),(16,17,21)]\n",
    "e2 = [(1,2),(3,4),(5,6),(7,8),(9,10),(11,12),(13,14),(15,16),(17,18),(19,20),(21,22)]\n",
    "r2 = rotationSystem(v2,e2)\n",
    "r2.displayCycles()\n",
    "print(f\"Number of faces: {r2.noFaces()}\")\n",
    "G2 = nx.MultiGraph(r2.conversion())\n",
    "nx.draw(G2)"
   ]
  },
  {
   "cell_type": "code",
   "execution_count": 7,
   "metadata": {},
   "outputs": [
    {
     "data": {
      "text/plain": [
       "0.0"
      ]
     },
     "execution_count": 7,
     "metadata": {},
     "output_type": "execute_result"
    }
   ],
   "source": [
    "r2.findGenus()"
   ]
  },
  {
   "cell_type": "code",
   "execution_count": 8,
   "metadata": {},
   "outputs": [
    {
     "name": "stdout",
     "output_type": "stream",
     "text": [
      "Number of 4-cycles is: 2\n",
      "Number of 5-cycles is: 1\n",
      "Number of 13-cycles is: 1\n",
      "Number of faces: 4\n"
     ]
    },
    {
     "data": {
      "image/png": "[encoded data removed]",
      "text/plain": [
       "<Figure size 432x288 with 1 Axes>"
      ]
     },
     "metadata": {},
     "output_type": "display_data"
    }
   ],
   "source": [
    "v3 = [(2,22,3,23,26),(4,5,12,14),(6,20,7,24),(8,15,9,25,11),(10,1,13), (18,19),(16,17,21)]\n",
    "e3 = [(1,2),(3,4),(5,6),(7,8),(9,10),(11,12),(13,14),(15,16),(17,18),(19,20),(21,22),(23,24),(25,26)]\n",
    "r3 = rotationSystem(v3,e3)\n",
    "r3.displayCycles()\n",
    "print(f\"Number of faces: {r3.noFaces()}\")\n",
    "G3 = nx.MultiGraph(r3.conversion())\n",
    "nx.draw(G3)"
   ]
  },
  {
   "cell_type": "code",
   "execution_count": 9,
   "metadata": {},
   "outputs": [
    {
     "data": {
      "text/plain": [
       "2.0"
      ]
     },
     "execution_count": 9,
     "metadata": {},
     "output_type": "execute_result"
    }
   ],
   "source": [
    "r3.findGenus()"
   ]
  },
  {
   "cell_type": "code",
   "execution_count": 16,
   "metadata": {},
   "outputs": [
    {
     "name": "stdout",
     "output_type": "stream",
     "text": [
      "Number of 3-cycles is: 6\n",
      "Number of 4-cycles is: 2\n",
      "Number of 6-cycles is: 2\n",
      "Number of 8-cycles is: 1\n",
      "Number of faces: 11\n"
     ]
    },
    {
     "ename": "NetworkXError",
     "evalue": "Input is not a valid edge list",
     "output_type": "error",
     "traceback": [
      "\u001b[1;31m---------------------------------------------------------------------------\u001b[0m",
      "\u001b[1;31mValueError\u001b[0m                                Traceback (most recent call last)",
      "\u001b[1;32m~\\AppData\\Local\\Continuum\\anaconda3\\lib\\site-packages\\networkx\\convert.py\u001b[0m in \u001b[0;36mto_networkx_graph\u001b[1;34m(data, create_using, multigraph_input)\u001b[0m\n\u001b[0;32m    126\u001b[0m         \u001b[1;32mtry\u001b[0m\u001b[1;33m:\u001b[0m\u001b[1;33m\u001b[0m\u001b[0m\n\u001b[1;32m--> 127\u001b[1;33m             \u001b[1;32mreturn\u001b[0m \u001b[0mfrom_edgelist\u001b[0m\u001b[1;33m(\u001b[0m\u001b[0mdata\u001b[0m\u001b[1;33m,\u001b[0m \u001b[0mcreate_using\u001b[0m\u001b[1;33m=\u001b[0m\u001b[0mcreate_using\u001b[0m\u001b[1;33m)\u001b[0m\u001b[1;33m\u001b[0m\u001b[0m\n\u001b[0m\u001b[0;32m    128\u001b[0m         \u001b[1;32mexcept\u001b[0m\u001b[1;33m:\u001b[0m\u001b[1;33m\u001b[0m\u001b[0m\n",
      "\u001b[1;32m~\\AppData\\Local\\Continuum\\anaconda3\\lib\\site-packages\\networkx\\convert.py\u001b[0m in \u001b[0;36mfrom_edgelist\u001b[1;34m(edgelist, create_using)\u001b[0m\n\u001b[0;32m    402\u001b[0m     \u001b[0mG\u001b[0m \u001b[1;33m=\u001b[0m \u001b[0m_prep_create_using\u001b[0m\u001b[1;33m(\u001b[0m\u001b[0mcreate_using\u001b[0m\u001b[1;33m)\u001b[0m\u001b[1;33m\u001b[0m\u001b[0m\n\u001b[1;32m--> 403\u001b[1;33m     \u001b[0mG\u001b[0m\u001b[1;33m.\u001b[0m\u001b[0madd_edges_from\u001b[0m\u001b[1;33m(\u001b[0m\u001b[0medgelist\u001b[0m\u001b[1;33m)\u001b[0m\u001b[1;33m\u001b[0m\u001b[0m\n\u001b[0m\u001b[0;32m    404\u001b[0m     \u001b[1;32mreturn\u001b[0m \u001b[0mG\u001b[0m\u001b[1;33m\u001b[0m\u001b[0m\n",
      "\u001b[1;32m~\\AppData\\Local\\Continuum\\anaconda3\\lib\\site-packages\\networkx\\classes\\multigraph.py\u001b[0m in \u001b[0;36madd_edges_from\u001b[1;34m(self, ebunch_to_add, **attr)\u001b[0m\n\u001b[0;32m    490\u001b[0m             \u001b[1;32mtry\u001b[0m\u001b[1;33m:\u001b[0m\u001b[1;33m\u001b[0m\u001b[0m\n\u001b[1;32m--> 491\u001b[1;33m                 \u001b[0mddd\u001b[0m\u001b[1;33m.\u001b[0m\u001b[0mupdate\u001b[0m\u001b[1;33m(\u001b[0m\u001b[0mdd\u001b[0m\u001b[1;33m)\u001b[0m\u001b[1;33m\u001b[0m\u001b[0m\n\u001b[0m\u001b[0;32m    492\u001b[0m             \u001b[1;32mexcept\u001b[0m\u001b[1;33m:\u001b[0m\u001b[1;33m\u001b[0m\u001b[0m\n",
      "\u001b[1;31mValueError\u001b[0m: dictionary update sequence element #0 has length 1; 2 is required",
      "\nDuring handling of the above exception, another exception occurred:\n",
      "\u001b[1;31mNetworkXError\u001b[0m                             Traceback (most recent call last)",
      "\u001b[1;32m<ipython-input-16-dcd144d4d65f>\u001b[0m in \u001b[0;36m<module>\u001b[1;34m()\u001b[0m\n\u001b[0;32m      5\u001b[0m \u001b[0mr4\u001b[0m\u001b[1;33m.\u001b[0m\u001b[0mdisplayCycles\u001b[0m\u001b[1;33m(\u001b[0m\u001b[1;33m)\u001b[0m\u001b[1;33m\u001b[0m\u001b[0m\n\u001b[0;32m      6\u001b[0m \u001b[0mprint\u001b[0m\u001b[1;33m(\u001b[0m\u001b[1;34mf\"Number of faces: {r4.noFaces()}\"\u001b[0m\u001b[1;33m)\u001b[0m\u001b[1;33m\u001b[0m\u001b[0m\n\u001b[1;32m----> 7\u001b[1;33m \u001b[0mG4\u001b[0m \u001b[1;33m=\u001b[0m \u001b[0mnx\u001b[0m\u001b[1;33m.\u001b[0m\u001b[0mMultiGraph\u001b[0m\u001b[1;33m(\u001b[0m\u001b[0mr4\u001b[0m\u001b[1;33m.\u001b[0m\u001b[0mconversion\u001b[0m\u001b[1;33m(\u001b[0m\u001b[1;33m)\u001b[0m\u001b[1;33m)\u001b[0m\u001b[1;33m\u001b[0m\u001b[0m\n\u001b[0m\u001b[0;32m      8\u001b[0m \u001b[0mfig1\u001b[0m \u001b[1;33m=\u001b[0m \u001b[0mnx\u001b[0m\u001b[1;33m.\u001b[0m\u001b[0mdraw\u001b[0m\u001b[1;33m(\u001b[0m\u001b[0mG4\u001b[0m\u001b[1;33m)\u001b[0m\u001b[1;33m\u001b[0m\u001b[0m\n\u001b[0;32m      9\u001b[0m \u001b[0mfig1\u001b[0m\u001b[1;33m\u001b[0m\u001b[0m\n",
      "\u001b[1;32m~\\AppData\\Local\\Continuum\\anaconda3\\lib\\site-packages\\networkx\\classes\\multigraph.py\u001b[0m in \u001b[0;36m__init__\u001b[1;34m(self, incoming_graph_data, **attr)\u001b[0m\n\u001b[0;32m    279\u001b[0m         \"\"\"\n\u001b[0;32m    280\u001b[0m         \u001b[0mself\u001b[0m\u001b[1;33m.\u001b[0m\u001b[0medge_key_dict_factory\u001b[0m \u001b[1;33m=\u001b[0m \u001b[0mself\u001b[0m\u001b[1;33m.\u001b[0m\u001b[0medge_key_dict_factory\u001b[0m\u001b[1;33m\u001b[0m\u001b[0m\n\u001b[1;32m--> 281\u001b[1;33m         \u001b[0mGraph\u001b[0m\u001b[1;33m.\u001b[0m\u001b[0m__init__\u001b[0m\u001b[1;33m(\u001b[0m\u001b[0mself\u001b[0m\u001b[1;33m,\u001b[0m \u001b[0mincoming_graph_data\u001b[0m\u001b[1;33m,\u001b[0m \u001b[1;33m**\u001b[0m\u001b[0mattr\u001b[0m\u001b[1;33m)\u001b[0m\u001b[1;33m\u001b[0m\u001b[0m\n\u001b[0m\u001b[0;32m    282\u001b[0m \u001b[1;33m\u001b[0m\u001b[0m\n\u001b[0;32m    283\u001b[0m     \u001b[1;33m@\u001b[0m\u001b[0mproperty\u001b[0m\u001b[1;33m\u001b[0m\u001b[0m\n",
      "\u001b[1;32m~\\AppData\\Local\\Continuum\\anaconda3\\lib\\site-packages\\networkx\\classes\\graph.py\u001b[0m in \u001b[0;36m__init__\u001b[1;34m(self, incoming_graph_data, **attr)\u001b[0m\n\u001b[0;32m    312\u001b[0m         \u001b[1;31m# attempt to load graph with data\u001b[0m\u001b[1;33m\u001b[0m\u001b[1;33m\u001b[0m\u001b[0m\n\u001b[0;32m    313\u001b[0m         \u001b[1;32mif\u001b[0m \u001b[0mincoming_graph_data\u001b[0m \u001b[1;32mis\u001b[0m \u001b[1;32mnot\u001b[0m \u001b[1;32mNone\u001b[0m\u001b[1;33m:\u001b[0m\u001b[1;33m\u001b[0m\u001b[0m\n\u001b[1;32m--> 314\u001b[1;33m             \u001b[0mconvert\u001b[0m\u001b[1;33m.\u001b[0m\u001b[0mto_networkx_graph\u001b[0m\u001b[1;33m(\u001b[0m\u001b[0mincoming_graph_data\u001b[0m\u001b[1;33m,\u001b[0m \u001b[0mcreate_using\u001b[0m\u001b[1;33m=\u001b[0m\u001b[0mself\u001b[0m\u001b[1;33m)\u001b[0m\u001b[1;33m\u001b[0m\u001b[0m\n\u001b[0m\u001b[0;32m    315\u001b[0m         \u001b[1;31m# load graph attributes (must be after convert)\u001b[0m\u001b[1;33m\u001b[0m\u001b[1;33m\u001b[0m\u001b[0m\n\u001b[0;32m    316\u001b[0m         \u001b[0mself\u001b[0m\u001b[1;33m.\u001b[0m\u001b[0mgraph\u001b[0m\u001b[1;33m.\u001b[0m\u001b[0mupdate\u001b[0m\u001b[1;33m(\u001b[0m\u001b[0mattr\u001b[0m\u001b[1;33m)\u001b[0m\u001b[1;33m\u001b[0m\u001b[0m\n",
      "\u001b[1;32m~\\AppData\\Local\\Continuum\\anaconda3\\lib\\site-packages\\networkx\\convert.py\u001b[0m in \u001b[0;36mto_networkx_graph\u001b[1;34m(data, create_using, multigraph_input)\u001b[0m\n\u001b[0;32m    127\u001b[0m             \u001b[1;32mreturn\u001b[0m \u001b[0mfrom_edgelist\u001b[0m\u001b[1;33m(\u001b[0m\u001b[0mdata\u001b[0m\u001b[1;33m,\u001b[0m \u001b[0mcreate_using\u001b[0m\u001b[1;33m=\u001b[0m\u001b[0mcreate_using\u001b[0m\u001b[1;33m)\u001b[0m\u001b[1;33m\u001b[0m\u001b[0m\n\u001b[0;32m    128\u001b[0m         \u001b[1;32mexcept\u001b[0m\u001b[1;33m:\u001b[0m\u001b[1;33m\u001b[0m\u001b[0m\n\u001b[1;32m--> 129\u001b[1;33m             \u001b[1;32mraise\u001b[0m \u001b[0mnx\u001b[0m\u001b[1;33m.\u001b[0m\u001b[0mNetworkXError\u001b[0m\u001b[1;33m(\u001b[0m\u001b[1;34m\"Input is not a valid edge list\"\u001b[0m\u001b[1;33m)\u001b[0m\u001b[1;33m\u001b[0m\u001b[0m\n\u001b[0m\u001b[0;32m    130\u001b[0m \u001b[1;33m\u001b[0m\u001b[0m\n\u001b[0;32m    131\u001b[0m     \u001b[1;31m# Pandas DataFrame\u001b[0m\u001b[1;33m\u001b[0m\u001b[1;33m\u001b[0m\u001b[0m\n",
      "\u001b[1;31mNetworkXError\u001b[0m: Input is not a valid edge list"
     ]
    }
   ],
   "source": [
    "import matplotlib.pyplot as plt\n",
    "v4 = [(1,2,3,4),(34,37,36,35),(30,31,32,33,44),(28,27,29),(26,25,43,42),(39,40,41,38),(23,24,21,22),(20,19,18,17),(15,16,14,13),(5,6,7,8,9),(10,11,12)]\n",
    "e4 = [(1,37),(35,3),(2,44),(33,34),(4,5),(6,36),(13,12),(10,9),(8,18),(11,19),(16,17),(7,14),(20,21),(15,22),(24,25),(23,40),(39,43),(26,27),(42,31),(38,32),(29,30),(28,41)]\n",
    "r4 = rotationSystem(v4,e4)\n",
    "r4.displayCycles()\n",
    "print(f\"Number of faces: {r4.noFaces()}\")\n",
    "G4 = nx.MultiGraph(r4.conversion())\n",
    "fig1 = nx.draw(G4)\n",
    "fig1\n",
    "plt.savefig(\"Rotation1.pdf\")\n",
    "r4.noVertices()"
   ]
  },
  {
   "cell_type": "code",
   "execution_count": 12,
   "metadata": {},
   "outputs": [
    {
     "data": {
      "text/plain": [
       "11"
      ]
     },
     "execution_count": 12,
     "metadata": {},
     "output_type": "execute_result"
    }
   ],
   "source": [
    "r4.noVertices()"
   ]
  },
  {
   "cell_type": "code",
   "execution_count": 25,
   "metadata": {},
   "outputs": [
    {
     "data": {
      "text/plain": [
       "0.0"
      ]
     },
     "execution_count": 25,
     "metadata": {},
     "output_type": "execute_result"
    }
   ],
   "source": [
    "e5 = [(1,2),(3,4),(5,6)]\n",
    "v5 = [(1,4,6,5),(2,3)]\n",
    "r5 = rotationSystem(v5,e5)\n",
    "r5.noVertices()\n",
    "r5.noEdges()\n",
    "r5.findGenus()"
   ]
  }
 ],
 "metadata": {
  "kernelspec": {
   "display_name": "Python 3",
   "language": "python",
   "name": "python3"
  },
  "language_info": {
   "codemirror_mode": {
    "name": "ipython",
    "version": 3
   },
   "file_extension": ".py",
   "mimetype": "text/x-python",
   "name": "python",
   "nbconvert_exporter": "python",
   "pygments_lexer": "ipython3",
   "version": "3.7.0"
  }
 },
 "nbformat": 4,
 "nbformat_minor": 2
}
