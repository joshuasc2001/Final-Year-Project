{
 "cells": [
  {
   "cell_type": "markdown",
   "id": "364be5c4",
   "metadata": {
    "slideshow": {
     "slide_type": "slide"
    }
   },
   "source": [
    "## Graphs "
   ]
  },
  {
   "cell_type": "markdown",
   "id": "e081c969",
   "metadata": {
    "slideshow": {
     "slide_type": "subslide"
    }
   },
   "source": [
    "Simple Graph is a finite non-empty set of vertices with a set of unordered distinct pairs of vertices called edges, loops and multiple edges are not permitted.\n",
    "\n"
   ]
  },
  {
   "cell_type": "markdown",
   "id": "213032b5",
   "metadata": {
    "slideshow": {
     "slide_type": "subslide"
    }
   },
   "source": [
    "Directed Graph is a simple graph where the edges are directed."
   ]
  },
  {
   "cell_type": "markdown",
   "id": "38eb4d7d",
   "metadata": {
    "slideshow": {
     "slide_type": "subslide"
    }
   },
   "source": [
    "Multigraph is a simple graph that allows loops and mutliple edges, the edges are not directed."
   ]
  },
  {
   "cell_type": "markdown",
   "id": "9e5d6a69",
   "metadata": {
    "slideshow": {
     "slide_type": "subslide"
    }
   },
   "source": [
    "Multidigraph is a multigraph where the edges are directed."
   ]
  },
  {
   "cell_type": "markdown",
   "id": "936a56c9",
   "metadata": {
    "slideshow": {
     "slide_type": "slide"
    }
   },
   "source": [
    "## Surfaces"
   ]
  },
  {
   "cell_type": "markdown",
   "id": "3a9faf21",
   "metadata": {
    "slideshow": {
     "slide_type": "subslide"
    }
   },
   "source": [
    "The genus of a closed, orientable surface is the maximum number of cuts along non-intersecting closed simple curves that will not disconnect the surface.  For example, the genus of the double torus S2 is 2. "
   ]
  },
  {
   "cell_type": "markdown",
   "id": "7a619cf4",
   "metadata": {},
   "source": [
    "Theorem 1: very connected closed compact orientable surface is homeomorphic to exactly one Si."
   ]
  },
  {
   "cell_type": "markdown",
   "id": "cca40174",
   "metadata": {
    "slideshow": {
     "slide_type": "slide"
    }
   },
   "source": [
    "The surfaces S0,S1,S2,...  form a complete set of representatives of the homeomorphism types of closed, connected, orientable surfaces by Theorem 1.  Moreover,  they  are  distinguishable  by  a  single  integer-valued  invariant,  the  Euler characteristic"
   ]
  },
  {
   "cell_type": "markdown",
   "id": "c2f8b6b1",
   "metadata": {
    "slideshow": {
     "slide_type": "slide"
    }
   },
   "source": [
    "The Euler characteristic of an orientable surface is given by χ(Sg) = 2−2g where g is the genus of the surface. If two closed, connected, orientable surfaces have the same Euler characteristic they are homeomorphic."
   ]
  },
  {
   "cell_type": "markdown",
   "id": "7e90ada2",
   "metadata": {
    "slideshow": {
     "slide_type": "slide"
    }
   },
   "source": [
    "## Embedded graphs"
   ]
  },
  {
   "cell_type": "markdown",
   "id": "51dfc0d8",
   "metadata": {
    "slideshow": {
     "slide_type": "subslide"
    }
   },
   "source": [
    "embedded and cellularry embedded, link between that and rotation system"
   ]
  },
  {
   "cell_type": "markdown",
   "id": "48f2a2aa",
   "metadata": {
    "slideshow": {
     "slide_type": "slide"
    }
   },
   "source": [
    "## Rotation System"
   ]
  },
  {
   "cell_type": "markdown",
   "id": "21c80789",
   "metadata": {
    "slideshow": {
     "slide_type": "subslide"
    }
   },
   "source": [
    "how it works, and why its used"
   ]
  },
  {
   "cell_type": "markdown",
   "id": "d5ae5aed",
   "metadata": {
    "slideshow": {
     "slide_type": "slide"
    }
   },
   "source": [
    "## Describe how methods works"
   ]
  },
  {
   "cell_type": "markdown",
   "id": "9295f5fb",
   "metadata": {
    "slideshow": {
     "slide_type": "subslide"
    }
   },
   "source": [
    "psudocode"
   ]
  },
  {
   "cell_type": "markdown",
   "id": "7bee258d",
   "metadata": {
    "slideshow": {
     "slide_type": "slide"
    }
   },
   "source": [
    "## Examples"
   ]
  },
  {
   "cell_type": "markdown",
   "id": "928c3929",
   "metadata": {
    "slideshow": {
     "slide_type": "subslide"
    }
   },
   "source": [
    "example here"
   ]
  },
  {
   "cell_type": "markdown",
   "id": "fb1f4511",
   "metadata": {},
   "source": []
  }
 ],
 "metadata": {
  "celltoolbar": "Slideshow",
  "kernelspec": {
   "display_name": "Python 3 (ipykernel)",
   "language": "python",
   "name": "python3"
  },
  "language_info": {
   "codemirror_mode": {
    "name": "ipython",
    "version": 3
   },
   "file_extension": ".py",
   "mimetype": "text/x-python",
   "name": "python",
   "nbconvert_exporter": "python",
   "pygments_lexer": "ipython3",
   "version": "3.9.7"
  }
 },
 "nbformat": 4,
 "nbformat_minor": 5
}
