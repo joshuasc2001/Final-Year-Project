{
 "cells": [
  {
   "cell_type": "code",
   "execution_count": 4,
   "metadata": {},
   "outputs": [],
   "source": [
    "class triangles:\n",
    "    def findHalfEdge(self, list1, x):\n",
    "        \"\"\"This method takes input as a list of tuples of either edges or transpositions, and a half edge x. \n",
    "        It finds the corresponding half edge to x using the corresponding tuple from the list provided.\"\"\"\n",
    "        for l in list1:\n",
    "            if x in l:\n",
    "                if l[0] == x:\n",
    "                    return l[1]\n",
    "                else:\n",
    "                    return l[0]\n",
    "                \n",
    "    def findTranspositions(self, list1, x):\n",
    "        \"\"\"return transposition a point is in, minus that point\"\"\"\n",
    "        for l in list1:\n",
    "            if x in l:\n",
    "                newlist = list(l)\n",
    "        newlist.remove(x)\n",
    "        return newlist\n",
    "    \n",
    "    def findTriangle(self, edges, transpositions):\n",
    "    \n",
    "        count = 0\n",
    "\n",
    "#         pick one half edge to start with, for each edge in the list of edges \n",
    "        for edge in edges:\n",
    "            u = edge[0]\n",
    "\n",
    "#             find other half edge connected to this - use method with edges list\n",
    "            v = self.findHalfEdge(edges, u)\n",
    "\n",
    "#             newlist = above method\n",
    "            v_transpositions = self.findTranspositions(transpositions, v)\n",
    "\n",
    "#             while new list is not empty:\n",
    "            while v_transpositions != []:\n",
    "\n",
    "#                 w = first element of newlist\n",
    "                w = v_transpositions[0]\n",
    "\n",
    "#                 Find other edge connected to w - use halfedge method - x\n",
    "                x = self.findHalfEdge(edges, w)\n",
    "\n",
    "#                 newlist2\n",
    "                x_transpositions = self.findTranspositions(transpositions, x)\n",
    "\n",
    "                while x_transpositions != []:\n",
    "#                     y = first element of newlist2\n",
    "                    y = x_transpositions[0]\n",
    "\n",
    "#                     Find other edge connected to y - use halfedge method - z\n",
    "                    z = self.findHalfEdge(edges, y)\n",
    "\n",
    "#                     use this print to test all combinations are being printed\n",
    "#                     print(f\"u is {u} and v is {v} and w is {w} and x is {x} and y is {y} and z is {z}\")\n",
    "\n",
    "#                     if u in in transposition for z then it is a triangle\n",
    "                    z_transpositions = self.findTranspositions(transpositions, z)\n",
    "\n",
    "                    if u in z_transpositions:\n",
    "                        count = count +1\n",
    "\n",
    "                    x_transpositions.remove(y)\n",
    "\n",
    "\n",
    "#                 remove w\n",
    "                v_transpositions.remove(w)\n",
    "\n",
    "#         since each triangle will be counted 3 times - one for each edge, divide by three\n",
    "        count = count/3\n",
    "\n",
    "        return count"
   ]
  },
  {
   "cell_type": "code",
   "execution_count": 5,
   "metadata": {},
   "outputs": [
    {
     "data": {
      "text/plain": [
       "4"
      ]
     },
     "execution_count": 5,
     "metadata": {},
     "output_type": "execute_result"
    }
   ],
   "source": [
    "x = triangles()\n",
    "# x.findHalfEdge([(1,2),(3,4),(5,6)],6)\n",
    "# x.findTranspositions([(1,2),(3,4),(5,6,7,8)],6)\n",
    "x.findTriangle([(1,2),(3,4),(5,6), (7,8), (9,10), (11,12), (13,14),(15,16),(17,18)],[(1,6,10),(2,3,16),(4,5,7,18,11),(8,9),(14,15,17),(12,13)])"
   ]
  },
  {
   "cell_type": "code",
   "execution_count": 6,
   "metadata": {},
   "outputs": [
    {
     "data": {
      "text/plain": [
       "4"
      ]
     },
     "execution_count": 6,
     "metadata": {},
     "output_type": "execute_result"
    }
   ],
   "source": [
    "x.findTriangle([(1,2),(3,4),(5,6), (7,8), (9,10), (11,12), (13,14),(15,16),(17,18)],[(1,6,10),(2,3,16),(4,5,7,18,11),(8,9),(14,15,17),(12,13)])"
   ]
  },
  {
   "cell_type": "code",
   "execution_count": 7,
   "metadata": {},
   "outputs": [
    {
     "data": {
      "text/plain": [
       "5"
      ]
     },
     "execution_count": 7,
     "metadata": {},
     "output_type": "execute_result"
    }
   ],
   "source": [
    "x.findTriangle([(1,2),(3,4),(5,6), (7,8), (9,10), (11,12), (13,14),(15,16),(17,18),(19,20),(21,22)],[(1,6,10),(2,3,16),(4,5,7,18,11,22),(8,9),(14,15,17),(12,13,19),(20,21)])"
   ]
  },
  {
   "cell_type": "code",
   "execution_count": 8,
   "metadata": {},
   "outputs": [
    {
     "data": {
      "text/plain": [
       "6"
      ]
     },
     "execution_count": 8,
     "metadata": {},
     "output_type": "execute_result"
    }
   ],
   "source": [
    "x.findTriangle([(1,2),(3,4),(5,6),(7,8),(9,10),(11,12),(13,14),(15,16),(17,18),(21,22),(23,24),(25,26)],[(1,16,14),(2,12,3),(4,10,5),(6,7,24),(23,21,25),(26,18,15),(22,8,9,11,13,17)])"
   ]
  },
  {
   "cell_type": "code",
   "execution_count": null,
   "metadata": {},
   "outputs": [],
   "source": []
  }
 ],
 "metadata": {
  "kernelspec": {
   "display_name": "SageMath 9.3",
   "language": "sage",
   "name": "sagemath"
  }
 },
 "nbformat": 4,
 "nbformat_minor": 4
}
