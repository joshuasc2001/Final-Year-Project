{
 "cells": [
  {
   "cell_type": "code",
   "execution_count": 1,
   "metadata": {},
   "outputs": [],
   "source": [
    "import networkx as nx\n",
    "opts = { \"with_labels\": True, \"node_color\": 'b' } #options for networkx graph"
   ]
  },
  {
   "cell_type": "code",
   "execution_count": 166,
   "metadata": {},
   "outputs": [],
   "source": [
    "class rotationSystem:\n",
    "    \n",
    "    def __init__(self, vertex, edge):\n",
    "        \"\"\"Takes in two lists of tuples of half edges\"\"\"\n",
    "        self.vertex = vertex\n",
    "        self.edge = edge\n",
    "    \n",
    "    def conversion(self):\n",
    "        \"\"\"Converts a list of half edges and a list of half edge pairs into a list of vertices and edges to \n",
    "            be used with networkx\"\"\"\n",
    "        vertices = []\n",
    "        edges = []\n",
    "        vertexHalfEdge = {}\n",
    "        \n",
    "        for i in range(len(self.vertex)): #creates a list of the vertices\n",
    "            vertexHalfEdge[i]=self.vertex[i]\n",
    "            vertices.append(i)\n",
    "            \n",
    "        for e in self.edge:\n",
    "            x,y = e \n",
    "            for key,value in vertexHalfEdge.items(): \n",
    "                try:\n",
    "                    if x in value:\n",
    "                        vertex1= key\n",
    "                    if y in value:\n",
    "                        vertex2 = key\n",
    "                except:\n",
    "                    if x == value:\n",
    "                        vertex1 = key\n",
    "                    if y == value:\n",
    "                        vertex2 = key\n",
    "            edges.append(str(vertex1)+str(vertex2))\n",
    "        \n",
    "        return vertices, edges\n",
    "    \n",
    "    def nxVertices(self):\n",
    "        return self.conversion()[0]\n",
    "    \n",
    "    def nxEdges(self):\n",
    "        return self.conversion()[1]\n",
    "    \n",
    "    def noEdges(self):\n",
    "        return len(self.nxEdges())\n",
    "    \n",
    "    def noVertices(self):\n",
    "        return len(self.nxVertices())\n",
    "    \n",
    "    def components(self):\n",
    "        \"\"\"Returns the number of componets\"\"\"\n",
    "        G = nx.Graph(self.nxEdges())\n",
    "        return nx.number_connected_components(G)\n",
    "    \n",
    "    def longestCycle(self):\n",
    "        G = nx.Graph(self.nxEdges())\n",
    "        cycle = nx.cycle_basis(G)\n",
    "        longest = 2\n",
    "        for cy in cycle:\n",
    "            if (len(cy)>longest):\n",
    "                longest = len(cy)\n",
    "        return longest\n",
    "    \n",
    "    def noCycles(self):\n",
    "        \"\"\"returns number of cycles\"\"\"\n",
    "        G = nx.Graph(self.nxEdges())\n",
    "        cycle = nx.cycle_basis(G) #list of cycles\n",
    "        cycleList = []\n",
    "        \n",
    "        for i in range(self.longestCycle()+1): \n",
    "            count = 0\n",
    "            \n",
    "            for cy in cycle:\n",
    "                if(len(cy) == i):\n",
    "                    count +=1\n",
    "            cycleList.append(count)\n",
    "            \n",
    " #used to find 2 cycle\n",
    "        two_cycles = 0\n",
    "        list2 = []\n",
    "        for y in self.nxEdges():\n",
    "            list2.append(y)\n",
    "        for x in self.nxEdges():\n",
    "            list2.remove(x)\n",
    "            if x in list2:\n",
    "                two_cycles += 1\n",
    "            elif x[::-1] in list2:\n",
    "                two_cycles +=1\n",
    "        cycleList[2]=two_cycles\n",
    "\n",
    "        \n",
    "        return(cycleList)\n",
    "    \n",
    "    def displayCycles(self):\n",
    "        for i in range(len(self.noCycles())): #print out number of each cycle\n",
    "            if self.noCycles()[i] != 0: #prevents printing out number of k-cycles if there is no k-cycle \n",
    "                print(f\"Number of {i}-cycles is: {self.noCycles()[i]}\")\n",
    "    \n",
    "    \n",
    "        \n",
    "    def noSimplices(self):\n",
    "        return [len(self.nxVertices()),len(self.nxEdges()),sum(self.noCycles())+1]\n",
    "    \n",
    "    def noFaces(self):\n",
    "        return self.noSimplices()[2]\n",
    "\n",
    "    def displaySimplices(self):\n",
    "         for i in range(len(self.noSimplices())):\n",
    "            print(f\"Number of {i}-simplices is: {self.noSimplices()[i]}\")\n"
   ]
  },
  {
   "cell_type": "code",
   "execution_count": 167,
   "metadata": {},
   "outputs": [
    {
     "data": {
      "text/plain": [
       "'ih'"
      ]
     },
     "execution_count": 167,
     "metadata": {},
     "output_type": "execute_result"
    }
   ],
   "source": [
    "x = \"hi\"\n",
    "x[::-1]"
   ]
  },
  {
   "cell_type": "code",
   "execution_count": 168,
   "metadata": {},
   "outputs": [
    {
     "data": {
      "text/plain": [
       "([0, 1, 2], ['01', '12', '20'])"
      ]
     },
     "execution_count": 168,
     "metadata": {},
     "output_type": "execute_result"
    }
   ],
   "source": [
    "x = rotationSystem([(1,2),(3,4),(5,0)],[(2,3),(4,5),(0,1)])\n",
    "x.conversion()"
   ]
  },
  {
   "cell_type": "code",
   "execution_count": 169,
   "metadata": {},
   "outputs": [
    {
     "data": {
      "text/plain": [
       "[0, 0, 0, 1]"
      ]
     },
     "execution_count": 169,
     "metadata": {},
     "output_type": "execute_result"
    }
   ],
   "source": [
    "x.noCycles()"
   ]
  },
  {
   "cell_type": "code",
   "execution_count": 170,
   "metadata": {},
   "outputs": [
    {
     "data": {
      "text/plain": [
       "1"
      ]
     },
     "execution_count": 170,
     "metadata": {},
     "output_type": "execute_result"
    }
   ],
   "source": [
    "x.components()"
   ]
  },
  {
   "cell_type": "code",
   "execution_count": 171,
   "metadata": {},
   "outputs": [
    {
     "data": {
      "text/plain": [
       "[0, 0, 0, 1]"
      ]
     },
     "execution_count": 171,
     "metadata": {},
     "output_type": "execute_result"
    }
   ],
   "source": [
    "x.noCycles()"
   ]
  },
  {
   "cell_type": "code",
   "execution_count": 172,
   "metadata": {},
   "outputs": [
    {
     "data": {
      "text/plain": [
       "['01', '12', '20', '03', '32', '45', '56', '64', '07', '78', '83', '32', '11']"
      ]
     },
     "execution_count": 172,
     "metadata": {},
     "output_type": "execute_result"
    }
   ],
   "source": [
    "v = [(1,2,3,16),(4,5,32,33),(6,7,8,31),(9,0,20,30),(10,15),(11,12),(13,14),(17,18),(19,21)] \n",
    "e = [(3,4),(5,7),(6,2),(1,0),(9,8),(10,11),(12,13),(14,15),(16,17),(18,19),(21,20),(30,31),(32,33)]\n",
    "y = rotationSystem(v,e) #graph with 3 triangles, 2 are connected to each other, the other isnt\n",
    "y.nxEdges()"
   ]
  },
  {
   "cell_type": "code",
   "execution_count": 173,
   "metadata": {},
   "outputs": [
    {
     "data": {
      "text/plain": [
       "2"
      ]
     },
     "execution_count": 173,
     "metadata": {},
     "output_type": "execute_result"
    }
   ],
   "source": [
    "y.components()"
   ]
  },
  {
   "cell_type": "code",
   "execution_count": 174,
   "metadata": {},
   "outputs": [
    {
     "data": {
      "text/plain": [
       "[0, 1, 1, 3, 1]"
      ]
     },
     "execution_count": 174,
     "metadata": {},
     "output_type": "execute_result"
    }
   ],
   "source": [
    "y.noCycles()"
   ]
  },
  {
   "cell_type": "code",
   "execution_count": 175,
   "metadata": {},
   "outputs": [
    {
     "name": "stdout",
     "output_type": "stream",
     "text": [
      "Number of 0-simplices is: 9\n",
      "Number of 1-simplices is: 13\n",
      "Number of 2-simplices is: 7\n"
     ]
    },
    {
     "data": {
      "text/plain": [
       "7"
      ]
     },
     "execution_count": 175,
     "metadata": {},
     "output_type": "execute_result"
    }
   ],
   "source": [
    "y.displaySimplices()\n",
    "y.noFaces()"
   ]
  },
  {
   "cell_type": "code",
   "execution_count": 176,
   "metadata": {},
   "outputs": [
    {
     "data": {
      "text/plain": [
       "[0, 0, 1]"
      ]
     },
     "execution_count": 176,
     "metadata": {},
     "output_type": "execute_result"
    }
   ],
   "source": [
    "z = rotationSystem([(1,2,3),(5,6),(4)],[(1,5),(6,2),(3,4)])\n",
    "z.noCycles()\n",
    "#z.nxEdges()\n",
    "#z.displayCycles()\n"
   ]
  },
  {
   "cell_type": "code",
   "execution_count": 179,
   "metadata": {},
   "outputs": [
    {
     "data": {
      "text/plain": [
       "5"
      ]
     },
     "execution_count": 179,
     "metadata": {},
     "output_type": "execute_result"
    }
   ],
   "source": [
    "v1 = [(12,13,15),(14,16,18,20),(8,9,17,19),(1,3,5,11,10),(2,4,6,7)]\n",
    "e1 = [(1,2),(3,4),(5,6),(7,8),(9,10),(11,12),(13,14),(15,16),(17,18),(19,20)]\n",
    "q = rotationSystem(v1,e1)\n",
    "q.noVertices()"
   ]
  },
  {
   "cell_type": "code",
   "execution_count": null,
   "metadata": {},
   "outputs": [],
   "source": []
  },
  {
   "cell_type": "code",
   "execution_count": null,
   "metadata": {},
   "outputs": [],
   "source": []
  },
  {
   "cell_type": "code",
   "execution_count": null,
   "metadata": {},
   "outputs": [],
   "source": []
  }
 ],
 "metadata": {
  "kernelspec": {
   "display_name": "Python 3",
   "language": "python",
   "name": "python3"
  },
  "language_info": {
   "codemirror_mode": {
    "name": "ipython",
    "version": 3
   },
   "file_extension": ".py",
   "mimetype": "text/x-python",
   "name": "python",
   "nbconvert_exporter": "python",
   "pygments_lexer": "ipython3",
   "version": "3.7.0"
  }
 },
 "nbformat": 4,
 "nbformat_minor": 4
}
