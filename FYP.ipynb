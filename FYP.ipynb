{
 "cells": [
  {
   "cell_type": "code",
   "execution_count": 3,
   "metadata": {},
   "outputs": [],
   "source": [
    "import networkx as nx\n",
    "opts = { \"with_labels\": True, \"node_color\": 'b' }"
   ]
  },
  {
   "cell_type": "code",
   "execution_count": 13,
   "metadata": {},
   "outputs": [],
   "source": [
    "class rotationSystem:\n",
    "    \n",
    "    def __init__(self, vertex, edge):\n",
    "        \"\"\"Takes in two lists of tuples of half edges\"\"\"\n",
    "        self.vertex = vertex\n",
    "        self.edge = edge\n",
    "    \n",
    "    def conversion(self):\n",
    "        vertices = []\n",
    "        edge = []\n",
    "        vertexHalfEdge = {}\n",
    "        for i in range(len(self.vertex)):\n",
    "            vertexHalfEdge[i]=self.vertex[i]\n",
    "            vertices.append(i)\n",
    "        for e in self.edge:\n",
    "            x,y = e\n",
    "            for key,value in vertexHalfEdge.items():\n",
    "                if x in value:\n",
    "                    vertex1= key\n",
    "                if y in value:\n",
    "                    vertex2 = key\n",
    "            edge.append(str(vertex1)+str(vertex2))\n",
    "        \n",
    "        return vertices, edge\n",
    "    \n",
    "    def components(self):\n",
    "        G = nx.Graph(self.conversion()[1])\n",
    "        return nx.number_connected_components(G)\n",
    "    \n",
    "    def triangle(self):\n",
    "        G = nx.Graph(self.conversion()[1])\n",
    "        if (len(nx.find_cycle(G))==3):\n",
    "            return True\n",
    "\n",
    "#         return nx.find_cycle(G)"
   ]
  },
  {
   "cell_type": "code",
   "execution_count": 14,
   "metadata": {},
   "outputs": [
    {
     "data": {
      "text/plain": [
       "([0, 1, 2], ['01', '12', '20'])"
      ]
     },
     "execution_count": 14,
     "metadata": {},
     "output_type": "execute_result"
    }
   ],
   "source": [
    "x = rotationSystem([(1,2),(3,4),(5,0)],[(2,3),(4,5),(0,1)])\n",
    "x.conversion()"
   ]
  },
  {
   "cell_type": "code",
   "execution_count": 15,
   "metadata": {},
   "outputs": [
    {
     "data": {
      "text/plain": [
       "1"
      ]
     },
     "execution_count": 15,
     "metadata": {},
     "output_type": "execute_result"
    }
   ],
   "source": [
    "x.components()"
   ]
  },
  {
   "cell_type": "code",
   "execution_count": 16,
   "metadata": {},
   "outputs": [
    {
     "data": {
      "text/plain": [
       "True"
      ]
     },
     "execution_count": 16,
     "metadata": {},
     "output_type": "execute_result"
    }
   ],
   "source": [
    "x.triangle()"
   ]
  },
  {
   "cell_type": "code",
   "execution_count": null,
   "metadata": {},
   "outputs": [],
   "source": []
  }
 ],
 "metadata": {
  "kernelspec": {
   "display_name": "Python 3 (ipykernel)",
   "language": "python",
   "name": "python3"
  },
  "language_info": {
   "codemirror_mode": {
    "name": "ipython",
    "version": 3
   },
   "file_extension": ".py",
   "mimetype": "text/x-python",
   "name": "python",
   "nbconvert_exporter": "python",
   "pygments_lexer": "ipython3",
   "version": "3.9.7"
  }
 },
 "nbformat": 4,
 "nbformat_minor": 4
}
