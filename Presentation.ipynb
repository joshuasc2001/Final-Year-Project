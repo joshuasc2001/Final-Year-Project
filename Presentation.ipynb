{
 "cells": [
  {
   "cell_type": "markdown",
   "id": "7add8288",
   "metadata": {
    "slideshow": {
     "slide_type": "slide"
    }
   },
   "source": [
    "## Graphs "
   ]
  },
  {
   "cell_type": "markdown",
   "id": "f81d7b97",
   "metadata": {
    "slideshow": {
     "slide_type": "subslide"
    }
   },
   "source": [
    "Simple Graph is a finite non-empty set of vertices with a set of unordered distinct pairs of vertices called edges, loops and multiple edges are not permitted.\n",
    "\n"
   ]
  },
  {
   "cell_type": "markdown",
   "id": "51e7a277",
   "metadata": {
    "slideshow": {
     "slide_type": "subslide"
    }
   },
   "source": [
    "Directed Graph is a simple graph where the edges are directed."
   ]
  },
  {
   "cell_type": "markdown",
   "id": "5ad8b67c",
   "metadata": {
    "slideshow": {
     "slide_type": "subslide"
    }
   },
   "source": [
    "Multigraph is a simple graph that allows loops and mutliple edges, the edges are not directed."
   ]
  },
  {
   "cell_type": "markdown",
   "id": "a1c2f8c5",
   "metadata": {
    "slideshow": {
     "slide_type": "subslide"
    }
   },
   "source": [
    "Multidigraph is a multigraph where the edges are directed."
   ]
  },
  {
   "cell_type": "markdown",
   "id": "5d70218b",
   "metadata": {
    "slideshow": {
     "slide_type": "slide"
    }
   },
   "source": [
    "## Surfaces"
   ]
  },
  {
   "cell_type": "markdown",
   "id": "ddbd93dd",
   "metadata": {
    "slideshow": {
     "slide_type": "subslide"
    }
   },
   "source": [
    "The genus of a closed, orientable surface is the maximum number of cuts along non-intersecting closed simple curves that will not disconnect the surface.  For example, the genus of the double torus S2 is 2. "
   ]
  },
  {
   "cell_type": "markdown",
   "id": "4deaaecb",
   "metadata": {},
   "source": [
    "Theorem 1: very connected closed compact orientable surface is homeomor-phic to exactly one Si."
   ]
  },
  {
   "cell_type": "markdown",
   "id": "a028336f",
   "metadata": {
    "slideshow": {
     "slide_type": "slide"
    }
   },
   "source": [
    "The surfaces S0,S1,S2,...  form a complete set of representatives of the homeomorphism types of closed, connected, orientable surfaces by Theorem 1.  Moreover,  they  are  distinguishable  by  a  single  integer-valued  invariant,  the  Euler characteristic"
   ]
  },
  {
   "cell_type": "markdown",
   "id": "14c6dea8",
   "metadata": {
    "slideshow": {
     "slide_type": "slide"
    }
   },
   "source": [
    "The Euler characteristic of an orientable surface is given by χ(Sg) = 2−2g where g is the genus of the surface. If two closed, connected, orientable surfaces have the same Euler characteristic they are homeomorphic."
   ]
  },
  {
   "cell_type": "markdown",
   "id": "cb887b20",
   "metadata": {
    "slideshow": {
     "slide_type": "slide"
    }
   },
   "source": [
    "## Embedded graphs"
   ]
  },
  {
   "cell_type": "markdown",
   "id": "06d9511c",
   "metadata": {
    "slideshow": {
     "slide_type": "subslide"
    }
   },
   "source": [
    "ribbon and arrow, cellularry embedded"
   ]
  },
  {
   "cell_type": "markdown",
   "id": "de6bb94c",
   "metadata": {
    "slideshow": {
     "slide_type": "slide"
    }
   },
   "source": [
    "## Rotation System"
   ]
  },
  {
   "cell_type": "markdown",
   "id": "24bee750",
   "metadata": {
    "slideshow": {
     "slide_type": "subslide"
    }
   },
   "source": [
    "how it works, and why its used"
   ]
  },
  {
   "cell_type": "markdown",
   "id": "c58516ba",
   "metadata": {
    "slideshow": {
     "slide_type": "slide"
    }
   },
   "source": [
    "## Describe how methods works"
   ]
  },
  {
   "cell_type": "markdown",
   "id": "1e95b2e8",
   "metadata": {
    "slideshow": {
     "slide_type": "subslide"
    }
   },
   "source": [
    "psudocode"
   ]
  },
  {
   "cell_type": "markdown",
   "id": "751192af",
   "metadata": {
    "slideshow": {
     "slide_type": "slide"
    }
   },
   "source": [
    "## Examples"
   ]
  },
  {
   "cell_type": "markdown",
   "id": "a6e781b8",
   "metadata": {
    "slideshow": {
     "slide_type": "subslide"
    }
   },
   "source": [
    "example here"
   ]
  },
  {
   "cell_type": "markdown",
   "id": "6c3cabad",
   "metadata": {},
   "source": []
  }
 ],
 "metadata": {
  "celltoolbar": "Slideshow",
  "kernelspec": {
   "display_name": "Python 3 (ipykernel)",
   "language": "python",
   "name": "python3"
  },
  "language_info": {
   "codemirror_mode": {
    "name": "ipython",
    "version": 3
   },
   "file_extension": ".py",
   "mimetype": "text/x-python",
   "name": "python",
   "nbconvert_exporter": "python",
   "pygments_lexer": "ipython3",
   "version": "3.9.7"
  }
 },
 "nbformat": 4,
 "nbformat_minor": 5
}
