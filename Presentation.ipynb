{
 "cells": [
  {
   "cell_type": "markdown",
   "metadata": {
    "slideshow": {
     "slide_type": "slide"
    }
   },
   "source": [
    "## Graphs "
   ]
  },
  {
   "cell_type": "markdown",
   "metadata": {
    "slideshow": {
     "slide_type": "subslide"
    }
   },
   "source": [
    "Simple Graph is a finite non-empty set of vertices with a set of unordered distinct pairs of vertices called edges, loops and multiple edges are not permitted.\n",
    "\n",
    "(add image)"
   ]
  },
  {
   "cell_type": "markdown",
   "metadata": {
    "slideshow": {
     "slide_type": "subslide"
    }
   },
   "source": [
    "Directed Graph is a simple graph where the edges are directed.\n",
    "\n",
    "(add image)"
   ]
  },
  {
   "cell_type": "markdown",
   "metadata": {
    "slideshow": {
     "slide_type": "subslide"
    }
   },
   "source": [
    "Multigraph is a simple graph that allows loops and multiple edges, the edges are not directed.\n",
    "\n",
    "(add image)"
   ]
  },
  {
   "cell_type": "markdown",
   "metadata": {
    "slideshow": {
     "slide_type": "subslide"
    }
   },
   "source": [
    "Multidigraph is a multigraph where the edges are directed.\n",
    "\n",
    "(add image)"
   ]
  },
  {
   "cell_type": "markdown",
   "metadata": {
    "slideshow": {
     "slide_type": "slide"
    }
   },
   "source": [
    "## Surfaces"
   ]
  },
  {
   "cell_type": "markdown",
   "metadata": {
    "slideshow": {
     "slide_type": "subslide"
    }
   },
   "source": [
    "The genus of a closed, orientable surface is the maximum number of cuts along non-intersecting closed simple curves that will not disconnect the surface.  For example, the genus of the double torus S2 is 2. "
   ]
  },
  {
   "cell_type": "markdown",
   "metadata": {},
   "source": [
    "Theorem 1: every connected closed compact orientable surface is homeomorphic to exactly one Si."
   ]
  },
  {
   "cell_type": "markdown",
   "metadata": {
    "slideshow": {
     "slide_type": "slide"
    }
   },
   "source": [
    "The surfaces S0,S1,S2,...  form a complete set of representatives of the homeomorphism types of closed, connected, orientable surfaces (by Theorem 1).  Moreover,  they  are  distinguishable  by  a  single  integer-valued  invariant,  the  Euler characteristic\n",
    "\n",
    "(add image)"
   ]
  },
  {
   "cell_type": "markdown",
   "metadata": {
    "slideshow": {
     "slide_type": "slide"
    }
   },
   "source": [
    "The Euler characteristic of an orientable surface is given by χ(Sg) = 2−2g where g is the genus of the surface. If two closed, connected, orientable surfaces have the same Euler characteristic they are homeomorphic.\n",
    "\n",
    "(add example)"
   ]
  },
  {
   "cell_type": "markdown",
   "metadata": {
    "slideshow": {
     "slide_type": "slide"
    }
   },
   "source": [
    "## Embedded graphs"
   ]
  },
  {
   "cell_type": "markdown",
   "metadata": {
    "slideshow": {
     "slide_type": "subslide"
    }
   },
   "source": [
    "\n",
    "An embedded graph is a graph drawn on a surface such that no edges intersect.\n"
   ]
  },
  {
   "cell_type": "markdown",
   "metadata": {
    "slideshow": {
     "slide_type": "subslide"
    }
   },
   "source": [
    "A cellularly embedded graph is a graph drawn on a surface such that edges only intersect at their ends, and each connected component of is homeomorphic to a disc.\n",
    "\n",
    "(add image)"
   ]
  },
  {
   "cell_type": "markdown",
   "metadata": {
    "slideshow": {
     "slide_type": "subslide"
    }
   },
   "source": [
    "embedded and cellulary embedded, link between that and rotation system\n"
   ]
  },
  {
   "cell_type": "markdown",
   "metadata": {
    "slideshow": {
     "slide_type": "slide"
    }
   },
   "source": [
    "## Rotation System"
   ]
  },
  {
   "cell_type": "markdown",
   "metadata": {
    "slideshow": {
     "slide_type": "subslide"
    }
   },
   "source": []
  },
  {
   "cell_type": "markdown",
   "metadata": {
    "slideshow": {
     "slide_type": "subslide"
    }
   },
   "source": [
    "A rotation system consists of an abstract graph and a cyclic ordering of the half-edges at each vertex, and a set of involutions of the half edges that correspond to the edges of the graph. "
   ]
  },
  {
   "cell_type": "markdown",
   "metadata": {
    "slideshow": {
     "slide_type": "subslide"
    }
   },
   "source": [
    "The number of faces and in fact also the length of each face in the rotation system can be found by multiplying the orbits in the vertex list with those in the edges list. The resulting number of orbits is the number of faces in the graph, while the length of each orbit is the number of sides in the respective face."
   ]
  },
  {
   "cell_type": "markdown",
   "metadata": {
    "slideshow": {
     "slide_type": "subslide"
    }
   },
   "source": [
    "Every rotation system corresponds to a unique cellularly embedded graph (fact check this) - describe how to convert from rotation system to cellulary embedded and vice versa, add image examples"
   ]
  },
  {
   "cell_type": "markdown",
   "metadata": {
    "slideshow": {
     "slide_type": "slide"
    }
   },
   "source": [
    "## Describe how methods works"
   ]
  },
  {
   "cell_type": "markdown",
   "metadata": {
    "slideshow": {
     "slide_type": "subslide"
    }
   },
   "source": [
    "Describe the rotation system class we made, what it takes as input and some of the methods in the class."
   ]
  },
  {
   "cell_type": "markdown",
   "metadata": {
    "slideshow": {
     "slide_type": "subslide"
    }
   },
   "source": [
    "Describe in words how method for finding boundary walk of a graph starting at a given half edge works\n",
    "\n",
    "Add image and test method below as an example of how it works."
   ]
  },
  {
   "cell_type": "code",
   "execution_count": 1,
   "metadata": {
    "slideshow": {
     "slide_type": "subslide"
    }
   },
   "outputs": [],
   "source": [
    "def findWalk(self, permutation, edges, o):\n",
    "        \"\"\"Find border walk given half edge\"\"\"\n",
    "        #set original half edge\n",
    "        startEdge = o\n",
    "        cycleList = [o]\n",
    "        currentEdge = self.findRotation(permutation, o)\n",
    "        cycleList.append(currentEdge)\n",
    "        currentEdge = self.findEdge(edges,currentEdge)\n",
    "        cycleList.append(currentEdge)\n",
    "        while currentEdge != o:\n",
    "            currentEdge = self.findRotation(permutation, currentEdge)\n",
    "            cycleList.append(currentEdge)\n",
    "            currentEdge = self.findEdge(edges,currentEdge)\n",
    "            cycleList.append(currentEdge)\n",
    "        return cycleList"
   ]
  },
  {
   "cell_type": "markdown",
   "metadata": {
    "slideshow": {
     "slide_type": "subslide"
    }
   },
   "source": [
    "Example code and accompanying image goes here"
   ]
  },
  {
   "cell_type": "markdown",
   "metadata": {
    "slideshow": {
     "slide_type": "subslide"
    }
   },
   "source": [
    "Describe in words how we can use this to find all cycles in a rotation system"
   ]
  },
  {
   "cell_type": "markdown",
   "metadata": {
    "slideshow": {
     "slide_type": "subslide"
    }
   },
   "source": [
    "Use same example as above and run code below to show it works"
   ]
  },
  {
   "cell_type": "code",
   "execution_count": 2,
   "metadata": {
    "slideshow": {
     "slide_type": "subslide"
    }
   },
   "outputs": [],
   "source": [
    "def findAllWalks(self):\n",
    "        \"\"\"Find all border walks\"\"\"\n",
    "        checked = []\n",
    "        cycles = []\n",
    "        for i in range(len(self.edge)):\n",
    "            for j in range(2):\n",
    "                if self.edge[i][j] not in checked:\n",
    "                    walk = self.findWalk(self.vertex, self.edge, self.edge[i][j])\n",
    "                    \n",
    "                    cycles.append(walk)\n",
    "                    for x in range(0, len(walk),2):\n",
    "                        checked.append(walk[x])\n",
    "                    # print(checked)\n",
    "        for l in cycles:\n",
    "            for k in cycles:\n",
    "                if k != l:\n",
    "                    if set(k) == set(l):\n",
    "                        cycles.remove(k)\n",
    "                        \n",
    "        return cycles\n"
   ]
  },
  {
   "cell_type": "code",
   "execution_count": 3,
   "metadata": {
    "slideshow": {
     "slide_type": "subslide"
    }
   },
   "outputs": [
    {
     "name": "stdout",
     "output_type": "stream",
     "text": [
      "Object `code` not found.\n"
     ]
    }
   ],
   "source": [
    "Show how you can draw a graph using this? Show code?"
   ]
  },
  {
   "cell_type": "code",
   "execution_count": null,
   "metadata": {},
   "outputs": [],
   "source": []
  },
  {
   "cell_type": "markdown",
   "metadata": {
    "slideshow": {
     "slide_type": "slide"
    }
   },
   "source": [
    "## Examples"
   ]
  },
  {
   "cell_type": "markdown",
   "metadata": {
    "slideshow": {
     "slide_type": "subslide"
    }
   },
   "source": [
    "Add more complicated examples, first show image and the rotation system input, then run different methods and display the output."
   ]
  },
  {
   "cell_type": "markdown",
   "metadata": {},
   "source": []
  },
  {
   "cell_type": "code",
   "execution_count": null,
   "metadata": {},
   "outputs": [],
   "source": []
  }
 ],
 "metadata": {
  "celltoolbar": "Slideshow",
  "kernelspec": {
   "display_name": "Python 3",
   "language": "python",
   "name": "python3"
  },
  "language_info": {
   "codemirror_mode": {
    "name": "ipython",
    "version": 3
   },
   "file_extension": ".py",
   "mimetype": "text/x-python",
   "name": "python",
   "nbconvert_exporter": "python",
   "pygments_lexer": "ipython3",
   "version": "3.7.0"
  }
 },
 "nbformat": 4,
 "nbformat_minor": 5
}
