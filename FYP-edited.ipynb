{
 "cells": [
  {
   "cell_type": "code",
   "execution_count": 1,
   "metadata": {},
   "outputs": [],
   "source": [
    "import networkx as nx\n",
    "class rotationSystem:\n",
    "\n",
    "    def __init__(self, vertex, edge):\n",
    "        \"\"\"Takes in two lists of tuples of half edges\"\"\"\n",
    "        self.vertex = vertex\n",
    "        self.edge = edge\n",
    "        \n",
    "    def noVertices(self):\n",
    "        return len(self.vertex)\n",
    "    \n",
    "    def noEdges(self):\n",
    "        return len(self.edge)\n",
    "\n",
    "    def conversion(self):\n",
    "        \"\"\"Converts a list of half edges and a list of half edge pairs into a list of edges to\n",
    "            be used with networkx\"\"\"\n",
    "        vertices = []\n",
    "        edges = []\n",
    "        vertexHalfEdge = {}\n",
    "\n",
    "        for i in range(len(self.vertex)):  # creates a list of the vertices\n",
    "            vertexHalfEdge[i] = self.vertex[i]\n",
    "            vertices.append(i)\n",
    "\n",
    "        for e in self.edge:\n",
    "            x, y = e\n",
    "            for key, value in vertexHalfEdge.items():\n",
    "                try:\n",
    "                    if x in value:\n",
    "                        vertex1 = key\n",
    "                    if y in value:\n",
    "                        vertex2 = key\n",
    "                except:\n",
    "                    if x == value:\n",
    "                        vertex1 = key\n",
    "                    if y == value:\n",
    "                        vertex2 = key\n",
    "            edges.append(str(vertex1)+str(vertex2))\n",
    "\n",
    "        return edges\n",
    "    \n",
    "\n",
    "        \n",
    "    def findRotation(self, list1, x):\n",
    "        \"\"\"Find half edge rotation\"\"\"\n",
    "        for l in list1:\n",
    "            if x in l:\n",
    "                for i in range(len(l)):\n",
    "                    if l[i] == x:\n",
    "                        halfEdge = l[(i+1) % len(l)]\n",
    "        return halfEdge\n",
    "\n",
    "    def findEdge(self, list1, x):\n",
    "        \"\"\"Find edge permutation\"\"\"\n",
    "        for l in list1:\n",
    "            if x in l:\n",
    "                if l[0] == x:\n",
    "                    return l[1]\n",
    "                else:\n",
    "                    return l[0]\n",
    "\n",
    "    #find walk - for one edge\n",
    "    def findWalk(self, permutation, edges, o):\n",
    "        \"\"\"Find border walk given half edge\"\"\"\n",
    "        #set original half edge\n",
    "        startEdge = o\n",
    "        cycleList = [o]\n",
    "        currentEdge = self.findRotation(permutation, o)\n",
    "        cycleList.append(currentEdge)\n",
    "        currentEdge = self.findEdge(edges,currentEdge)\n",
    "        cycleList.append(currentEdge)\n",
    "        while currentEdge != o:\n",
    "            currentEdge = self.findRotation(permutation, currentEdge)\n",
    "            cycleList.append(currentEdge)\n",
    "            currentEdge = self.findEdge(edges,currentEdge)\n",
    "            cycleList.append(currentEdge)\n",
    "        return cycleList\n",
    "\n",
    "\n",
    "    def findAllWalks(self):\n",
    "        ## need to check if graph is connected before finding boundary cycles\n",
    "        \"\"\"Find all border walks\"\"\"\n",
    "        checked = []\n",
    "        cycles = []\n",
    "        for i in range(len(self.edge)):\n",
    "            for j in range(2):\n",
    "                if self.edge[i][j] not in checked:\n",
    "                    walk = self.findWalk(self.vertex, self.edge, self.edge[i][j])\n",
    "                    \n",
    "                    cycles.append(walk)\n",
    "                    for x in range(0, len(walk),2):\n",
    "                        checked.append(walk[x])\n",
    "                    # print(checked)\n",
    "        for l in cycles:\n",
    "            for k in cycles:\n",
    "                if k != l:\n",
    "                    if set(k) == set(l):\n",
    "                        cycles.remove(k)\n",
    "                        \n",
    "        return cycles\n",
    "\n",
    "    #may change to replace 0,1,2,3,4,...-cycles to their actual names\n",
    "    def displayBoundaryCycles(self):\n",
    "        \"\"\"Displays the number of boundary cycles of each length\"\"\"\n",
    "        cycles = []\n",
    "        allCycles = []\n",
    "        walks = self.findAllWalks()\n",
    "        \n",
    "        for i in walks:\n",
    "            allCycles.append(int((len(i)-1)/2)) # walk is made up of 2 half edges for each vertex so need to divide by 2 and take away 1 as first half edge is counted twice\n",
    "        \n",
    "        for i in range(max(allCycles)+1):\n",
    "            counter = 0\n",
    "            for j in allCycles:\n",
    "                if j == i:\n",
    "                    counter +=1\n",
    "            cycles.append(counter)\n",
    "        \n",
    "        for i in range(len(cycles)): #print out number of each cycle\n",
    "            if cycles[i] != 0: #prevents printing out number of k-cycles if there is no k-cycle \n",
    "                print(f\"Number of {i}-cycles is: {cycles[i]}\")\n",
    "        \n",
    "        return 0\n",
    "                \n",
    "    \n",
    "    def displayFaces(self):\n",
    "        print(f\"Number of faces is: {len(self.findAllWalks())}\")\n",
    "        \n",
    "    \n",
    "    def findGenus(self):\n",
    "        return int(1 - 0.5*(self.noVertices() - self.noEdges() + len(self.findAllWalks())))\n",
    "        \n",
    "import itertools\n",
    "import more_itertools\n",
    "\n",
    "class graphGenus:\n",
    "    \n",
    "    def __init__(self, vertex, edge):\n",
    "        \"\"\"Takes in two lists of tuples of half edges\"\"\"\n",
    "        self.vertex = vertex\n",
    "        self.edge = edge\n",
    "        \n",
    "    def vertexPermutationHelper(self, vertex):\n",
    "        combs = []\n",
    "        for i in itertools.permutations(vertex, len(vertex)):\n",
    "            combs.append(i)\n",
    "            #need to remove cyclic permutations\n",
    "                       \n",
    "        return combs\n",
    "    \n",
    "    def vertexPermutations(self, vertices):\n",
    "        \n",
    "        permutations = []\n",
    "        for i in range(len(vertices)):\n",
    "            permutations.append(self.vertexPermutationHelper(vertices[i]))\n",
    "            \n",
    "        combs = []\n",
    "        combs = list(itertools.product(*permutations))\n",
    "        \n",
    "        return combs\n",
    "    \n",
    "    def genusOfGraph(self):\n",
    "        \"\"\"Finds the smallest genus of a connected graph\"\"\"\n",
    "        genus = []\n",
    "        \n",
    "        for i in self.vertexPermutations(self.vertex):\n",
    "            r = rotationSystem(i,self.edge)\n",
    "            genus.append(r.findGenus())\n",
    "            \n",
    "            \n",
    "        return min(genus)"
   ]
  },
  {
   "cell_type": "markdown",
   "metadata": {},
   "source": [
    "If rotation system class gets changed remember to update overleaf"
   ]
  },
  {
   "cell_type": "markdown",
   "metadata": {},
   "source": [
    "Basic examples used when describing the methods"
   ]
  },
  {
   "cell_type": "code",
   "execution_count": 2,
   "metadata": {},
   "outputs": [
    {
     "name": "stdout",
     "output_type": "stream",
     "text": [
      "Number of edges are: 6\n",
      "Number of vertices are: 5\n"
     ]
    }
   ],
   "source": [
    "#Running the number of edges and number of vertices method\n",
    "e = [(1,2),(3,4,5),(6,7),(8,9,10),(11,12)]\n",
    "v = [(2,3),(5,6),(7,8),(9,4),(10,11),(12,1)]\n",
    "r = rotationSystem(e,v)\n",
    "\n",
    "print(\"Number of edges are:\", r.noEdges())\n",
    "print(\"Number of vertices are:\", r.noVertices())"
   ]
  },
  {
   "cell_type": "code",
   "execution_count": 3,
   "metadata": {},
   "outputs": [
    {
     "name": "stdout",
     "output_type": "stream",
     "text": [
      "Number of 3-cycles is: 1\n",
      "Number of 4-cycles is: 1\n",
      "Number of 5-cycles is: 1\n"
     ]
    },
    {
     "data": {
      "text/plain": [
       "0"
      ]
     },
     "execution_count": 3,
     "metadata": {},
     "output_type": "execute_result"
    }
   ],
   "source": [
    "#Finding all the boundary walks in the graph\n",
    "e = [(1,2),(3,4,5),(6,7),(8,9,10),(11,12)]\n",
    "v = [(2,3),(5,6),(7,8),(9,4),(10,11),(12,1)]\n",
    "r = rotationSystem(e,v)\n",
    "\n",
    "r.findAllWalks()\n",
    "r.displayBoundaryCycles()"
   ]
  },
  {
   "cell_type": "code",
   "execution_count": 4,
   "metadata": {},
   "outputs": [
    {
     "name": "stdout",
     "output_type": "stream",
     "text": [
      "Number of faces is: 3\n",
      "Number of faces are: None\n"
     ]
    }
   ],
   "source": [
    "#Finding how many faces are in the graph\n",
    "e = [(1,2),(3,4,5),(6,7),(8,9,10),(11,12)]\n",
    "v = [(2,3),(5,6),(7,8),(9,4),(10,11),(12,1)]\n",
    "r = rotationSystem(e,v)\n",
    "\n",
    "print(\"Number of faces are:\", r.displayFaces())"
   ]
  },
  {
   "cell_type": "code",
   "execution_count": 5,
   "metadata": {},
   "outputs": [
    {
     "name": "stdout",
     "output_type": "stream",
     "text": [
      "The genus of the graph is: 0\n"
     ]
    }
   ],
   "source": [
    "e = [(1,2),(3,4,5),(6,7),(8,9,10),(11,12)]\n",
    "v = [(2,3),(5,6),(7,8),(9,4),(10,11),(12,1)]\n",
    "r = rotationSystem(e,v)\n",
    "\n",
    "print(\"The genus of the graph is:\", r.findGenus())"
   ]
  },
  {
   "cell_type": "markdown",
   "metadata": {},
   "source": [
    "Example 1 Code"
   ]
  },
  {
   "cell_type": "code",
   "execution_count": 6,
   "metadata": {},
   "outputs": [
    {
     "name": "stdout",
     "output_type": "stream",
     "text": [
      "The genus of the graph is: 1\n",
      "Number of faces is: 1\n"
     ]
    }
   ],
   "source": [
    "#rotation system on torus\n",
    "v = [(1,6,4,5), (3,2)]\n",
    "e = [(1,2),(3,4),(6,5)]\n",
    "r = rotationSystem(v,e)\n",
    "\n",
    "\n",
    "print(\"The genus of the graph is:\", r.findGenus())\n",
    "r.displayFaces()\n"
   ]
  },
  {
   "cell_type": "code",
   "execution_count": 7,
   "metadata": {},
   "outputs": [
    {
     "name": "stdout",
     "output_type": "stream",
     "text": [
      "The genus of the graph is: 0\n",
      "Number of faces is: 3\n"
     ]
    }
   ],
   "source": [
    "#rotation system on sphere\n",
    "v = [(1,4,5,6),(3,2)]\n",
    "e = [(1,2),(3,4),(6,5)]\n",
    "r = rotationSystem(v,e)\n",
    "\n",
    "print(\"The genus of the graph is:\", r.findGenus())\n",
    "r.displayFaces()\n"
   ]
  },
  {
   "cell_type": "markdown",
   "metadata": {},
   "source": [
    "Example 2 Code"
   ]
  },
  {
   "cell_type": "code",
   "execution_count": 8,
   "metadata": {},
   "outputs": [],
   "source": [
    "v = [(1,2,3,4),(34,37,36,35),(30,31,32,33,44),(28,27,29),(26,25,43,42),\n",
    "     (39,40,41,38),(23,24,21,22),(20,19,18,17),(15,16,14,13),(5,6,7,8,9),\n",
    "     (10,11,12)]\n",
    "e = [(1,37),(35,3),(2,44),(33,34),(4,5),(6,36),(13,12),(10,9),(8,18),(11,19),\n",
    "     (16,17),(7,14),(20,21),(15,22),(24,25),(23,40),(39,43),(26,27),(42,31),\n",
    "     (38,32),(29,30),(28,41)]\n",
    "r = rotationSystem(v,e)"
   ]
  },
  {
   "cell_type": "code",
   "execution_count": 9,
   "metadata": {},
   "outputs": [
    {
     "name": "stdout",
     "output_type": "stream",
     "text": [
      "Number of 3-cycles is: 8\n",
      "Number of 6-cycles is: 2\n",
      "Number of 8-cycles is: 1\n"
     ]
    },
    {
     "data": {
      "text/plain": [
       "0"
      ]
     },
     "execution_count": 9,
     "metadata": {},
     "output_type": "execute_result"
    }
   ],
   "source": [
    "r.displayBoundaryCycles()"
   ]
  },
  {
   "cell_type": "code",
   "execution_count": 10,
   "metadata": {},
   "outputs": [
    {
     "data": {
      "text/plain": [
       "1"
      ]
     },
     "execution_count": 10,
     "metadata": {},
     "output_type": "execute_result"
    }
   ],
   "source": [
    "r.findGenus()"
   ]
  },
  {
   "cell_type": "code",
   "execution_count": 11,
   "metadata": {},
   "outputs": [
    {
     "name": "stdout",
     "output_type": "stream",
     "text": [
      "Number of faces is: 11\n"
     ]
    }
   ],
   "source": [
    "r.displayFaces()"
   ]
  },
  {
   "cell_type": "markdown",
   "metadata": {},
   "source": [
    "Example 3"
   ]
  },
  {
   "cell_type": "code",
   "execution_count": 12,
   "metadata": {},
   "outputs": [
    {
     "ename": "SyntaxError",
     "evalue": "invalid syntax (Temp/ipykernel_5028/1442441160.py, line 1)",
     "output_type": "error",
     "traceback": [
      "\u001b[1;36m  File \u001b[1;32m\"C:\\Users\\rache\\AppData\\Local\\Temp/ipykernel_5028/1442441160.py\"\u001b[1;36m, line \u001b[1;32m1\u001b[0m\n\u001b[1;33m    Example 3 Code\u001b[0m\n\u001b[1;37m            ^\u001b[0m\n\u001b[1;31mSyntaxError\u001b[0m\u001b[1;31m:\u001b[0m invalid syntax\n"
     ]
    }
   ],
   "source": [
    "Example 3 Code"
   ]
  },
  {
   "cell_type": "code",
   "execution_count": 13,
   "metadata": {},
   "outputs": [
    {
     "data": {
      "text/plain": [
       "2"
      ]
     },
     "execution_count": 13,
     "metadata": {},
     "output_type": "execute_result"
    }
   ],
   "source": [
    "v = [(1,2,3,4),(5,6,7,8),(9,10,11,12),(13,14,15,16),(17,18,19,20)]\n",
    "e = [(1,5),(2,12),(3,14),(4,17),(6,9),(7,15),(8,18),(10,16),(11,19),(13,20)]\n",
    "r = rotationSystem(v,e)\n",
    "r.findGenus()"
   ]
  },
  {
   "cell_type": "code",
   "execution_count": 14,
   "metadata": {},
   "outputs": [
    {
     "name": "stdout",
     "output_type": "stream",
     "text": [
      "Number of faces is: 3\n"
     ]
    }
   ],
   "source": [
    "r.displayFaces()"
   ]
  },
  {
   "cell_type": "markdown",
   "metadata": {},
   "source": [
    "Example 4"
   ]
  },
  {
   "cell_type": "code",
   "execution_count": 15,
   "metadata": {},
   "outputs": [
    {
     "data": {
      "text/plain": [
       "3"
      ]
     },
     "execution_count": 15,
     "metadata": {},
     "output_type": "execute_result"
    }
   ],
   "source": [
    "v = [(1,4,3,2),(5,6,31,22,34),(7,10,9,8),(11,13,12,32),(14,18,17,16,15),(19,21,33,20)]\n",
    "e= [(4,5),(6,7),(10,11),(13,14),(18,19),(21,1),(3,12),(2,17),(9,15),(8,20),(16,22),(31,32),(33,34)]\n",
    "r = rotationSystem(v,e)\n",
    "r.findGenus()"
   ]
  },
  {
   "cell_type": "code",
   "execution_count": 16,
   "metadata": {},
   "outputs": [
    {
     "name": "stdout",
     "output_type": "stream",
     "text": [
      "Number of faces is: 3\n"
     ]
    }
   ],
   "source": [
    "r.displayFaces()"
   ]
  },
  {
   "cell_type": "code",
   "execution_count": 18,
   "metadata": {},
   "outputs": [
    {
     "name": "stdout",
     "output_type": "stream",
     "text": [
      "Number of 6-cycles is: 1\n",
      "Number of 10-cycles is: 2\n"
     ]
    },
    {
     "data": {
      "text/plain": [
       "0"
      ]
     },
     "execution_count": 18,
     "metadata": {},
     "output_type": "execute_result"
    }
   ],
   "source": [
    "r.displayBoundaryCycles()"
   ]
  },
  {
   "cell_type": "code",
   "execution_count": 19,
   "metadata": {},
   "outputs": [
    {
     "data": {
      "text/plain": [
       "[[4, 3, 12, 32, 31, 22, 16, 15, 9, 8, 20, 19, 18, 17, 2, 1, 21, 33, 34, 5, 4],\n",
       " [5, 6, 7, 10, 11, 13, 14, 18, 19, 21, 1, 4, 5],\n",
       " [6, 31, 32, 11, 10, 9, 15, 14, 13, 12, 3, 2, 17, 16, 22, 34, 33, 20, 8, 7, 6]]"
      ]
     },
     "execution_count": 19,
     "metadata": {},
     "output_type": "execute_result"
    }
   ],
   "source": [
    "r.findAllWalks()"
   ]
  },
  {
   "cell_type": "code",
   "execution_count": null,
   "metadata": {},
   "outputs": [],
   "source": []
  }
 ],
 "metadata": {
  "kernelspec": {
   "display_name": "Python 3 (ipykernel)",
   "language": "python",
   "name": "python3"
  },
  "language_info": {
   "codemirror_mode": {
    "name": "ipython",
    "version": 3
   },
   "file_extension": ".py",
   "mimetype": "text/x-python",
   "name": "python",
   "nbconvert_exporter": "python",
   "pygments_lexer": "ipython3",
   "version": "3.8.12"
  }
 },
 "nbformat": 4,
 "nbformat_minor": 2
}
